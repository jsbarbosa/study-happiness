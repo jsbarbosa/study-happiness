{
 "cells": [
  {
   "cell_type": "code",
   "execution_count": 1,
   "metadata": {
    "collapsed": true
   },
   "outputs": [],
   "source": [
    "import numpy as np\n",
    "import matplotlib.pyplot as plt\n",
    "%matplotlib inline\n",
    "\n",
    "import sympy as spy\n",
    "from IPython.display import display, Image\n",
    "spy.init_printing()"
   ]
  },
  {
   "cell_type": "markdown",
   "metadata": {},
   "source": [
    "# Filtro con amplificación"
   ]
  },
  {
   "cell_type": "code",
   "execution_count": 2,
   "metadata": {
    "collapsed": false
   },
   "outputs": [
    {
     "data": {
      "image/png": "[encoded data removed]",
      "text/latex": [
       "$$\\frac{C R_{2} V_{in} \\omega}{\\sqrt{C^{2} R_{1}^{2} \\omega^{2} + 1.0}}$$"
      ],
      "text/plain": [
       "    C⋅R₂⋅V_{in}⋅\\omega   \n",
       "─────────────────────────\n",
       "   ______________________\n",
       "  ╱  2   2       2       \n",
       "╲╱  C ⋅R₁ ⋅\\omega  + 1.0 "
      ]
     },
     "metadata": {},
     "output_type": "display_data"
    },
    {
     "name": "stdout",
     "output_type": "stream",
     "text": [
      "\\frac{C R_{2} V_{in} \\omega}{\\sqrt{C^{2} R_{1}^{2} \\omega^{2} + 1.0}}\n"
     ]
    },
    {
     "data": {
      "image/png": "[encoded data removed]",
      "text/latex": [
       "$$\\operatorname{atan}{\\left (\\frac{1.0}{C R_{1} \\omega} \\right )}$$"
      ],
      "text/plain": [
       "    ⎛    1.0    ⎞\n",
       "atan⎜───────────⎟\n",
       "    ⎝C⋅R₁⋅\\omega⎠"
      ]
     },
     "metadata": {},
     "output_type": "display_data"
    },
    {
     "name": "stdout",
     "output_type": "stream",
     "text": [
      "atan(1.0/(C*R_1*\\omega))\n"
     ]
    }
   ],
   "source": [
    "omega, C, R_1, R_2, V_in = spy.symbols('\\omega C R_1 R_2 V_{in}', real=True, positive=True)\n",
    "\n",
    "Z_eq = 1/(1j*omega*C) + R_1\n",
    "V_out = -(R_2/Z_eq)*V_in\n",
    "real, imag = V_out.as_real_imag()\n",
    "\n",
    "amplitude = spy.sqrt(real**2 + imag**2).simplify()\n",
    "phase = spy.atan(imag/real)\n",
    "\n",
    "display(amplitude)\n",
    "print(spy.latex(amplitude))\n",
    "display(phase)\n",
    "print(phase)\n",
    "\n",
    "CONSTANT_R_1 = 10e3\n",
    "CONSTANT_R_2 = 100e3\n",
    "CONSTANT_C = 0.1e-6\n",
    "CONSTANT_V_in = 1\n",
    "\n",
    "substitutions = [(R_1, CONSTANT_R_1), (R_2, CONSTANT_R_2), (C, CONSTANT_C), (V_in, CONSTANT_V_in)]"
   ]
  },
  {
   "cell_type": "code",
   "execution_count": 3,
   "metadata": {
    "collapsed": false
   },
   "outputs": [
    {
     "data": {
      "image/png": "[encoded data removed]",
      "text/latex": [
       "$$\\frac{1}{C R_{1}}$$"
      ],
      "text/plain": [
       " 1  \n",
       "────\n",
       "C⋅R₁"
      ]
     },
     "metadata": {},
     "output_type": "display_data"
    }
   ],
   "source": [
    "eq = spy.denom(amplitude)\n",
    "solutions = spy.solve(eq-spy.sqrt(2), omega)[0]\n",
    "display(solutions)\n",
    "omega_c = float(solutions.subs(substitutions))"
   ]
  },
  {
   "cell_type": "code",
   "execution_count": 4,
   "metadata": {
    "collapsed": false
   },
   "outputs": [],
   "source": [
    "V_out = V_out.subs(substitutions).simplify()\n",
    "V_c = V_out.evalf(subs = {omega:omega_c})\n",
    "\n",
    "V_c = float(abs(V_c))"
   ]
  },
  {
   "cell_type": "code",
   "execution_count": 5,
   "metadata": {
    "collapsed": false
   },
   "outputs": [
    {
     "data": {
      "image/png": "[encoded data removed]",
      "text/plain": [
       "<matplotlib.figure.Figure at 0x7fa3e19a0b38>"
      ]
     },
     "metadata": {},
     "output_type": "display_data"
    }
   ],
   "source": [
    "freq = np.logspace(0, 6)\n",
    "Vouts = np.zeros_like(freq)\n",
    "phases = np.zeros_like(freq)\n",
    "for i,w in enumerate(freq):\n",
    "    sol = V_out.evalf(subs = {omega:w*2*np.pi})\n",
    "    Vouts[i] = abs(sol)\n",
    "    phases[i] = spy.atan(spy.im(sol)/spy.re(sol))\n",
    "    \n",
    "fig, (ax1, ax2) = plt.subplots(2, sharex=True)\n",
    "ax1.plot(freq, Vouts)\n",
    "ax1.plot([omega_c/(2*np.pi)],[V_c], \"o\")\n",
    "ax1.set_xscale('log')\n",
    "ax1.set_ylabel('Amplitude (V)')\n",
    "ax1.grid()\n",
    "ax2.grid()\n",
    "ax2.plot(freq, phases)\n",
    "ax2.set_xlabel('Frequency (Hz)')\n",
    "ax2.set_ylabel('Phase (rad)')\n",
    "plt.tight_layout()\n",
    "plt.savefig('filter.pdf')\n",
    "plt.show()"
   ]
  },
  {
   "cell_type": "markdown",
   "metadata": {
    "collapsed": false
   },
   "source": [
    "# Filtro pasa banda"
   ]
  },
  {
   "cell_type": "code",
   "execution_count": 6,
   "metadata": {
    "collapsed": false
   },
   "outputs": [],
   "source": [
    "omega, C_1, C_2, R_1, R_2, R_3, R_4, R_5, V_in, V_out = spy.symbols('\\omega C_1 C_2 R_1 R_2 R_3 R_4 R_5 V_{in} V_{out}',\n",
    "                                                             real=True, positive=True)\n",
    "\n",
    "Z_c1, Z_c2 = spy.symbols('Z_{c1} Z_{c2}', complex=True) "
   ]
  },
  {
   "cell_type": "code",
   "execution_count": 7,
   "metadata": {
    "collapsed": false
   },
   "outputs": [],
   "source": [
    "V_N = V_out*R_4/(R_4+R_5)\n",
    "\n",
    "V_1 = spy.symbols('V_1')\n",
    "I_1 = (V_in-V_1)/R_1\n",
    "I_2 = V_1/Z_c1\n",
    "I_3 = (V_1-V_out)/R_3\n",
    "I_4 = (V_1-V_N)/Z_c2"
   ]
  },
  {
   "cell_type": "code",
   "execution_count": 8,
   "metadata": {
    "collapsed": false
   },
   "outputs": [
    {
     "data": {
      "image/png": "[encoded data removed]",
      "text/latex": [
       "$$\\frac{1}{R_{1}} \\left(- V_{1} + V_{in}\\right)$$"
      ],
      "text/plain": [
       "-V₁ + V_{in}\n",
       "────────────\n",
       "     R₁     "
      ]
     },
     "metadata": {},
     "output_type": "display_data"
    },
    {
     "name": "stdout",
     "output_type": "stream",
     "text": [
      "\\frac{1}{R_{1}} \\left(- V_{1} + V_{in}\\right)\n"
     ]
    },
    {
     "data": {
      "image/png": "[encoded data removed]",
      "text/latex": [
       "$$\\frac{V_{1}}{Z_{c1}}$$"
      ],
      "text/plain": [
       "  V₁  \n",
       "──────\n",
       "Z_{c1}"
      ]
     },
     "metadata": {},
     "output_type": "display_data"
    },
    {
     "name": "stdout",
     "output_type": "stream",
     "text": [
      "\\frac{V_{1}}{Z_{c1}}\n"
     ]
    },
    {
     "data": {
      "image/png": "[encoded data removed]",
      "text/latex": [
       "$$\\frac{1}{R_{3}} \\left(V_{1} - V_{out}\\right)$$"
      ],
      "text/plain": [
       "V₁ - V_{out}\n",
       "────────────\n",
       "     R₃     "
      ]
     },
     "metadata": {},
     "output_type": "display_data"
    },
    {
     "name": "stdout",
     "output_type": "stream",
     "text": [
      "\\frac{1}{R_{3}} \\left(V_{1} - V_{out}\\right)\n"
     ]
    },
    {
     "data": {
      "image/png": "[encoded data removed]",
      "text/latex": [
       "$$\\frac{1}{Z_{c2}} \\left(- \\frac{R_{4} V_{out}}{R_{4} + R_{5}} + V_{1}\\right)$$"
      ],
      "text/plain": [
       "  R₄⋅V_{out}     \n",
       "- ────────── + V₁\n",
       "   R₄ + R₅       \n",
       "─────────────────\n",
       "      Z_{c2}     "
      ]
     },
     "metadata": {},
     "output_type": "display_data"
    },
    {
     "name": "stdout",
     "output_type": "stream",
     "text": [
      "\\frac{1}{Z_{c2}} \\left(- \\frac{R_{4} V_{out}}{R_{4} + R_{5}} + V_{1}\\right)\n"
     ]
    }
   ],
   "source": [
    "currents = [I_1, I_2, I_3, I_4]\n",
    "for I in currents:\n",
    "    display(I)\n",
    "    print(spy.latex(I))"
   ]
  },
  {
   "cell_type": "code",
   "execution_count": 9,
   "metadata": {
    "collapsed": false
   },
   "outputs": [
    {
     "data": {
      "image/png": "[encoded data removed]",
      "text/latex": [
       "$$\\frac{R_{2} R_{3} V_{in} Z_{c1} \\left(R_{4} + R_{5}\\right)}{R_{1} R_{2} R_{3} R_{4} - R_{1} R_{2} R_{5} Z_{c1} + R_{1} R_{3} R_{4} Z_{c1} + R_{1} R_{3} R_{4} Z_{c2} + R_{1} R_{4} Z_{c1} Z_{c2} + R_{2} R_{3} R_{4} Z_{c1} + R_{3} R_{4} Z_{c1} Z_{c2}}$$"
      ],
      "text/plain": [
       "                                                 R₂⋅R₃⋅V_{in}⋅Z_{c1}⋅(R₄ + R₅)\n",
       "──────────────────────────────────────────────────────────────────────────────\n",
       "R₁⋅R₂⋅R₃⋅R₄ - R₁⋅R₂⋅R₅⋅Z_{c1} + R₁⋅R₃⋅R₄⋅Z_{c1} + R₁⋅R₃⋅R₄⋅Z_{c2} + R₁⋅R₄⋅Z_{c\n",
       "\n",
       "                                                 \n",
       "─────────────────────────────────────────────────\n",
       "1}⋅Z_{c2} + R₂⋅R₃⋅R₄⋅Z_{c1} + R₃⋅R₄⋅Z_{c1}⋅Z_{c2}"
      ]
     },
     "metadata": {},
     "output_type": "display_data"
    },
    {
     "name": "stdout",
     "output_type": "stream",
     "text": [
      "\\frac{R_{2} R_{3} V_{in} Z_{c1} \\left(R_{4} + R_{5}\\right)}{R_{1} R_{2} R_{3} R_{4} - R_{1} R_{2} R_{5} Z_{c1} + R_{1} R_{3} R_{4} Z_{c1} + R_{1} R_{3} R_{4} Z_{c2} + R_{1} R_{4} Z_{c1} Z_{c2} + R_{2} R_{3} R_{4} Z_{c1} + R_{3} R_{4} Z_{c1} Z_{c2}}\n"
     ]
    }
   ],
   "source": [
    "V1 = V_N*(Z_c2/R_2+1)\n",
    "eq = I_2+I_3+I_4-I_1\n",
    "eq = eq.subs([(V_1,V1)])\n",
    "\n",
    "sol = spy.solve(eq, V_out)[0]\n",
    "display(sol)\n",
    "print(spy.latex(sol))"
   ]
  },
  {
   "cell_type": "code",
   "execution_count": 10,
   "metadata": {
    "collapsed": false
   },
   "outputs": [
    {
     "data": {
      "image/png": "[encoded data removed]",
      "text/latex": [
       "$$\\frac{R_{1}^{2} V_{in} Z_{c1} \\left(R_{4} + R_{5}\\right)}{R_{1}^{3} R_{4} + 2 R_{1}^{2} R_{4} Z_{c1} + R_{1}^{2} R_{4} Z_{c2} - R_{1}^{2} R_{5} Z_{c1} + 2 R_{1} R_{4} Z_{c1} Z_{c2}}$$"
      ],
      "text/plain": [
       "                            2                                                 \n",
       "                          R₁ ⋅V_{in}⋅Z_{c1}⋅(R₄ + R₅)                         \n",
       "──────────────────────────────────────────────────────────────────────────────\n",
       "  3          2               2               2                                \n",
       "R₁ ⋅R₄ + 2⋅R₁ ⋅R₄⋅Z_{c1} + R₁ ⋅R₄⋅Z_{c2} - R₁ ⋅R₅⋅Z_{c1} + 2⋅R₁⋅R₄⋅Z_{c1}⋅Z_{c\n",
       "\n",
       "  \n",
       "  \n",
       "──\n",
       "  \n",
       "2}"
      ]
     },
     "metadata": {},
     "output_type": "display_data"
    },
    {
     "name": "stdout",
     "output_type": "stream",
     "text": [
      "\\frac{R_{1}^{2} V_{in} Z_{c1} \\left(R_{4} + R_{5}\\right)}{R_{1}^{3} R_{4} + 2 R_{1}^{2} R_{4} Z_{c1} + R_{1}^{2} R_{4} Z_{c2} - R_{1}^{2} R_{5} Z_{c1} + 2 R_{1} R_{4} Z_{c1} Z_{c2}}\n"
     ]
    }
   ],
   "source": [
    "substitutions = [(R_2, R_1), (R_3, R_1), (C_2, C_1)]\n",
    "sol = sol.subs(substitutions)\n",
    "display(sol)\n",
    "print(spy.latex(sol))"
   ]
  },
  {
   "cell_type": "code",
   "execution_count": 11,
   "metadata": {
    "collapsed": false
   },
   "outputs": [
    {
     "data": {
      "image/png": "[encoded data removed]",
      "text/latex": [
       "$$- \\frac{1.0 i C_{1} R_{1} V_{in} \\omega \\left(R_{4} + R_{5}\\right)}{C_{1}^{2} R_{1}^{2} R_{4} \\omega^{2} - i C_{1} R_{1} \\omega \\left(3.0 R_{4} - 1.0 R_{5}\\right) - 2.0 R_{4}}$$"
      ],
      "text/plain": [
       "            -1.0⋅ⅈ⋅C₁⋅R₁⋅V_{in}⋅\\omega⋅(R₄ + R₅)              \n",
       "──────────────────────────────────────────────────────────────\n",
       "  2   2          2                                            \n",
       "C₁ ⋅R₁ ⋅R₄⋅\\omega  - ⅈ⋅C₁⋅R₁⋅\\omega⋅(3.0⋅R₄ - 1.0⋅R₅) - 2.0⋅R₄"
      ]
     },
     "metadata": {},
     "output_type": "display_data"
    },
    {
     "name": "stdout",
     "output_type": "stream",
     "text": [
      "- \\frac{1.0 i C_{1} R_{1} V_{in} \\omega \\left(R_{4} + R_{5}\\right)}{C_{1}^{2} R_{1}^{2} R_{4} \\omega^{2} - i C_{1} R_{1} \\omega \\left(3.0 R_{4} - 1.0 R_{5}\\right) - 2.0 R_{4}}\n"
     ]
    }
   ],
   "source": [
    "substitutions = [(Z_c1, 1/(1j*omega*C_1)),(Z_c2, 1/(1j*omega*C_1))]\n",
    "sol = sol.subs(substitutions).simplify()\n",
    "\n",
    "display(sol)\n",
    "print(spy.latex(sol))\n",
    "real, imag = sol.as_real_imag()\n",
    "\n",
    "amplitude = spy.sqrt(real**2 + imag**2).simplify()\n",
    "phase = spy.atan(imag/real)"
   ]
  },
  {
   "cell_type": "code",
   "execution_count": 12,
   "metadata": {
    "collapsed": false
   },
   "outputs": [
    {
     "data": {
      "image/png": "[encoded data removed]",
      "text/latex": [
       "$$\\frac{1.0 C_{1} R_{1} V_{in} \\omega \\left(R_{4} + R_{5}\\right)}{\\sqrt{C_{1}^{2} R_{1}^{2} \\omega^{2} \\left(3.0 R_{4} - 1.0 R_{5}\\right)^{2} + R_{4}^{2} \\left(C_{1}^{2} R_{1}^{2} \\omega^{2} - 2.0\\right)^{2}}}$$"
      ],
      "text/plain": [
       "                   1.0⋅C₁⋅R₁⋅V_{in}⋅\\omega⋅(R₄ + R₅)                   \n",
       "───────────────────────────────────────────────────────────────────────\n",
       "    ___________________________________________________________________\n",
       "   ╱                                                                 2 \n",
       "  ╱    2   2       2                  2     2 ⎛  2   2       2      ⎞  \n",
       "╲╱   C₁ ⋅R₁ ⋅\\omega ⋅(3.0⋅R₄ - 1.0⋅R₅)  + R₄ ⋅⎝C₁ ⋅R₁ ⋅\\omega  - 2.0⎠  "
      ]
     },
     "metadata": {},
     "output_type": "display_data"
    },
    {
     "name": "stdout",
     "output_type": "stream",
     "text": [
      "\\frac{1.0 C_{1} R_{1} V_{in} \\omega \\left(R_{4} + R_{5}\\right)}{\\sqrt{C_{1}^{2} R_{1}^{2} \\omega^{2} \\left(3.0 R_{4} - 1.0 R_{5}\\right)^{2} + R_{4}^{2} \\left(C_{1}^{2} R_{1}^{2} \\omega^{2} - 2.0\\right)^{2}}}\n"
     ]
    },
    {
     "data": {
      "image/png": "[encoded data removed]",
      "text/latex": [
       "$$- \\operatorname{atan}{\\left (\\frac{1.0 C_{1}^{2} R_{1}^{2} R_{4} \\omega^{2} - 2.0 R_{4}}{C_{1} R_{1} \\omega \\left(3.0 R_{4} - 1.0 R_{5}\\right)} \\right )}$$"
      ],
      "text/plain": [
       "     ⎛    ⎛  2   2          2         ⎞⎞\n",
       "     ⎜1.0⋅⎝C₁ ⋅R₁ ⋅R₄⋅\\omega  - 2.0⋅R₄⎠⎟\n",
       "-atan⎜─────────────────────────────────⎟\n",
       "     ⎝  C₁⋅R₁⋅\\omega⋅(3.0⋅R₄ - 1.0⋅R₅) ⎠"
      ]
     },
     "metadata": {},
     "output_type": "display_data"
    },
    {
     "name": "stdout",
     "output_type": "stream",
     "text": [
      "- \\operatorname{atan}{\\left (\\frac{1.0 C_{1}^{2} R_{1}^{2} R_{4} \\omega^{2} - 2.0 R_{4}}{C_{1} R_{1} \\omega \\left(3.0 R_{4} - 1.0 R_{5}\\right)} \\right )}\n"
     ]
    }
   ],
   "source": [
    "display(amplitude)\n",
    "print(spy.latex(amplitude))\n",
    "display(phase)\n",
    "print(spy.latex(phase))"
   ]
  },
  {
   "cell_type": "code",
   "execution_count": 13,
   "metadata": {
    "collapsed": false
   },
   "outputs": [],
   "source": [
    "max_amp = spy.diff(amplitude, omega)\n",
    "highest_omega = spy.solve(max_amp, omega)[0]\n",
    "\n",
    "max_amp = sol.subs([(omega, highest_omega)]).simplify()"
   ]
  },
  {
   "cell_type": "code",
   "execution_count": 14,
   "metadata": {
    "collapsed": false
   },
   "outputs": [
    {
     "data": {
      "image/png": "[encoded data removed]",
      "text/latex": [
       "$$\\frac{1.4142135623731}{C_{1} R_{1}}$$"
      ],
      "text/plain": [
       "1.4142135623731\n",
       "───────────────\n",
       "     C₁⋅R₁     "
      ]
     },
     "metadata": {},
     "output_type": "display_data"
    },
    {
     "data": {
      "image/png": "[encoded data removed]",
      "text/latex": [
       "$$\\frac{1.4142135623731 i V_{in} \\left(R_{4} + R_{5}\\right)}{- 4.44089209850063 \\cdot 10^{-16} R_{4} + 4.24264068711929 i R_{4} - 1.4142135623731 i R_{5}}$$"
      ],
      "text/plain": [
       "                   1.4142135623731⋅ⅈ⋅V_{in}⋅(R₄ + R₅)                  \n",
       "───────────────────────────────────────────────────────────────────────\n",
       "-4.44089209850063e-16⋅R₄ + 4.24264068711929⋅ⅈ⋅R₄ - 1.4142135623731⋅ⅈ⋅R₅"
      ]
     },
     "metadata": {},
     "output_type": "display_data"
    },
    {
     "name": "stdout",
     "output_type": "stream",
     "text": [
      "\\frac{1.4142135623731 i V_{in} \\left(R_{4} + R_{5}\\right)}{- 4.44089209850063 \\cdot 10^{-16} R_{4} + 4.24264068711929 i R_{4} - 1.4142135623731 i R_{5}}\n"
     ]
    }
   ],
   "source": [
    "display(highest_omega)\n",
    "\n",
    "display(max_amp)\n",
    "print(spy.latex(max_amp))"
   ]
  },
  {
   "cell_type": "code",
   "execution_count": 15,
   "metadata": {
    "collapsed": false
   },
   "outputs": [],
   "source": [
    "freq_corte = spy.solve(amplitude/V_in-3/spy.sqrt(2), omega)"
   ]
  },
  {
   "cell_type": "code",
   "execution_count": 16,
   "metadata": {
    "collapsed": true
   },
   "outputs": [],
   "source": [
    "CONSTANT_R_1 = 10e3\n",
    "CONSTANT_R_2 = 10e3\n",
    "CONSTANT_R_3 = 10e3\n",
    "CONSTANT_R_4 = 1e3\n",
    "CONSTANT_R_5 = 2e3\n",
    "\n",
    "CONSTANT_C_1 = 0.1e-6\n",
    "CONSTANT_C_2 = 0.1e-6\n",
    "CONSTANT_V_in = 1\n",
    "\n",
    "substitutions = [(R_1, CONSTANT_R_1), (C_1, CONSTANT_C_1), (R_4, CONSTANT_R_4), (R_5, CONSTANT_R_5), (V_in, 1)]"
   ]
  },
  {
   "cell_type": "code",
   "execution_count": 17,
   "metadata": {
    "collapsed": false
   },
   "outputs": [
    {
     "data": {
      "image/png": "[encoded data removed]",
      "text/latex": [
       "$$\\frac{0.235702260395516}{C_{1} R_{1} R_{4}} \\sqrt{- 43.0 R_{4}^{2} + 58.0 R_{4} R_{5} - 7.0 R_{5}^{2} - \\left(553.0 R_{4}^{4} - 4988.0 R_{4}^{3} R_{5} + 3966.0 R_{4}^{2} R_{5}^{2} - 812.0 R_{4} R_{5}^{3} + 49.0 R_{5}^{4}\\right)^{0.5}}$$"
      ],
      "text/plain": [
       "                      ________________________________________________________\n",
       "                     ╱                                                        \n",
       "                    ╱           2                      2   ⎛        4         \n",
       "0.235702260395516⋅╲╱   - 43.0⋅R₄  + 58.0⋅R₄⋅R₅ - 7.0⋅R₅  - ⎝553.0⋅R₄  - 4988.0\n",
       "──────────────────────────────────────────────────────────────────────────────\n",
       "                                                               C₁⋅R₁⋅R₄       \n",
       "\n",
       "_______________________________________________________\n",
       "                                                   0.5 \n",
       "   3               2   2              3          4⎞    \n",
       "⋅R₄ ⋅R₅ + 3966.0⋅R₄ ⋅R₅  - 812.0⋅R₄⋅R₅  + 49.0⋅R₅ ⎠    \n",
       "───────────────────────────────────────────────────────\n",
       "                                                       "
      ]
     },
     "metadata": {},
     "output_type": "display_data"
    },
    {
     "name": "stdout",
     "output_type": "stream",
     "text": [
      "1000.00000000000\n",
      "\\frac{0.235702260395516}{C_{1} R_{1} R_{4}} \\sqrt{- 43.0 R_{4}^{2} + 58.0 R_{4} R_{5} - 7.0 R_{5}^{2} - \\left(553.0 R_{4}^{4} - 4988.0 R_{4}^{3} R_{5} + 3966.0 R_{4}^{2} R_{5}^{2} - 812.0 R_{4} R_{5}^{3} + 49.0 R_{5}^{4}\\right)^{0.5}}\n"
     ]
    },
    {
     "data": {
      "image/png": "[encoded data removed]",
      "text/latex": [
       "$$\\frac{0.235702260395516}{C_{1} R_{1} R_{4}} \\sqrt{- 43.0 R_{4}^{2} + 58.0 R_{4} R_{5} - 7.0 R_{5}^{2} + \\left(553.0 R_{4}^{4} - 4988.0 R_{4}^{3} R_{5} + 3966.0 R_{4}^{2} R_{5}^{2} - 812.0 R_{4} R_{5}^{3} + 49.0 R_{5}^{4}\\right)^{0.5}}$$"
      ],
      "text/plain": [
       "                      ________________________________________________________\n",
       "                     ╱                                                        \n",
       "                    ╱           2                      2   ⎛        4         \n",
       "0.235702260395516⋅╲╱   - 43.0⋅R₄  + 58.0⋅R₄⋅R₅ - 7.0⋅R₅  + ⎝553.0⋅R₄  - 4988.0\n",
       "──────────────────────────────────────────────────────────────────────────────\n",
       "                                                               C₁⋅R₁⋅R₄       \n",
       "\n",
       "_______________________________________________________\n",
       "                                                   0.5 \n",
       "   3               2   2              3          4⎞    \n",
       "⋅R₄ ⋅R₅ + 3966.0⋅R₄ ⋅R₅  - 812.0⋅R₄⋅R₅  + 49.0⋅R₅ ⎠    \n",
       "───────────────────────────────────────────────────────\n",
       "                                                       "
      ]
     },
     "metadata": {},
     "output_type": "display_data"
    },
    {
     "name": "stdout",
     "output_type": "stream",
     "text": [
      "2000.00000000000\n",
      "\\frac{0.235702260395516}{C_{1} R_{1} R_{4}} \\sqrt{- 43.0 R_{4}^{2} + 58.0 R_{4} R_{5} - 7.0 R_{5}^{2} + \\left(553.0 R_{4}^{4} - 4988.0 R_{4}^{3} R_{5} + 3966.0 R_{4}^{2} R_{5}^{2} - 812.0 R_{4} R_{5}^{3} + 49.0 R_{5}^{4}\\right)^{0.5}}\n"
     ]
    }
   ],
   "source": [
    "for i, item in enumerate(freq_corte):\n",
    "    if i%2:\n",
    "        display(item)\n",
    "        temp = item.subs(substitutions)\n",
    "        print(temp)\n",
    "        print(spy.latex(item.simplify()))"
   ]
  },
  {
   "cell_type": "code",
   "execution_count": 18,
   "metadata": {
    "collapsed": false
   },
   "outputs": [],
   "source": [
    "freq = np.logspace(0, 6, 1000)\n",
    "Vouts = np.zeros_like(freq)\n",
    "evaluated = sol.subs(substitutions)\n",
    "for i,w in enumerate(freq):\n",
    "    temp = evaluated.evalf(subs={omega:w*2*np.pi})\n",
    "    Vouts[i] = abs(temp)"
   ]
  },
  {
   "cell_type": "code",
   "execution_count": 19,
   "metadata": {
    "collapsed": false
   },
   "outputs": [
    {
     "data": {
      "image/png": "[encoded data removed]",
      "text/plain": [
       "<matplotlib.figure.Figure at 0x7fa3e1b1d7f0>"
      ]
     },
     "metadata": {},
     "output_type": "display_data"
    }
   ],
   "source": [
    "plt.plot(freq, Vouts)\n",
    "plt.xlabel('Amplitude (V)')\n",
    "plt.ylabel('Frequency (Hz)')\n",
    "plt.xscale('log')\n",
    "plt.grid()\n",
    "plt.savefig('band-pass-plot.pdf')"
   ]
  }
 ],
 "metadata": {
  "anaconda-cloud": {},
  "kernelspec": {
   "display_name": "Python [Root]",
   "language": "python",
   "name": "Python [Root]"
  },
  "language_info": {
   "codemirror_mode": {
    "name": "ipython",
    "version": 3
   },
   "file_extension": ".py",
   "mimetype": "text/x-python",
   "name": "python",
   "nbconvert_exporter": "python",
   "pygments_lexer": "ipython3",
   "version": "3.5.2"
  }
 },
 "nbformat": 4,
 "nbformat_minor": 0
}
