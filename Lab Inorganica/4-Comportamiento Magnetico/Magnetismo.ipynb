{
 "cells": [
  {
   "cell_type": "code",
   "execution_count": 1,
   "metadata": {
    "collapsed": true
   },
   "outputs": [],
   "source": [
    "import numpy as np\n",
    "import matplotlib.pyplot as plt\n",
    "%matplotlib inline"
   ]
  },
  {
   "cell_type": "code",
   "execution_count": 2,
   "metadata": {
    "collapsed": false
   },
   "outputs": [],
   "source": [
    "data = np.genfromtxt(\"Datos.csv\", delimiter=',')\n",
    "\n",
    "def regresion(x_array, y_array, order, n=100, min_point=0):\n",
    "    \"\"\"\n",
    "        Returns: array of regresion values\n",
    "    \"\"\"\n",
    "    coeff = np.polyfit(x_array, y_array, order)\n",
    "    x = np.linspace(min_point, max(x_array)*1.1, n)\n",
    "    y = np.zeros_like(x)\n",
    "    for i in range(order+1):\n",
    "        y += coeff[i]*x**(order-i)\n",
    "    return x, y, coeff\n",
    "\n",
    "def equation_text(coefficients, variable):\n",
    "    \"\"\"\n",
    "        Returns: the equation of regresion as text\n",
    "    \"\"\"\n",
    "    text = []\n",
    "    \n",
    "    i = len(coefficients)-1\n",
    "    for (j, cons) in enumerate(coefficients):\n",
    "        if j == i:\n",
    "            text.append(\"$%.3f$\"%cons)\n",
    "        elif i-j == 1:\n",
    "            text.append(\"$%.3f$\"%(cons) + variable)\n",
    "        else:            \n",
    "            text.append(\"$%.3f$\"%cons + variable+\"$^%d$\"%(i-j))\n",
    "        \n",
    "    final = \"\"\n",
    "    for (i, element) in enumerate(text):\n",
    "        if i != 0:\n",
    "            if element[1] == \"-\":\n",
    "                final += element\n",
    "            else:\n",
    "                final += \"$+$\"+element\n",
    "        else:\n",
    "            final += element\n",
    "    \n",
    "    return final"
   ]
  },
  {
   "cell_type": "code",
   "execution_count": 3,
   "metadata": {
    "collapsed": false
   },
   "outputs": [],
   "source": [
    "COMPOUND_NAME = 0\n",
    "MOLECULAR_WEIGHT = 1\n",
    "REAL_MASS = 2\n",
    "MOL = 3\n",
    "MASS_CHANGE = 4\n",
    "MASS_CHANGE_MOL = 5\n",
    "MOLAR_MAGNETIC_SUSCEPTIBILITY = 6\n",
    "SPINS = 7\n",
    "\n",
    "names = [\"FeCl$_3$ · 6H$_2$O\", \"MnSO$_4$ · H$_2$O\"\n",
    "         , \"Fe$_2$(SO$_4$)$_3$ · 9H$_2$O\", \"CoCl$_2$ · 6H$_2$O\"\n",
    "         , \"KCr(SO$_4$)$_2$ · 12H$_2$O\", 'NiSO$_4$ · 6H$_2$O'\n",
    "         , \"CuSO$_4$ · 5H$_2$O\", \"Fe$_4$[Fe(CN)$_6$]\",\"(NH$_4$)$_2$Cr$_2$O$_7$\", \"CuCl\"]"
   ]
  },
  {
   "cell_type": "markdown",
   "metadata": {},
   "source": [
    "# Force vs N"
   ]
  },
  {
   "cell_type": "code",
   "execution_count": 4,
   "metadata": {
    "collapsed": false,
    "scrolled": true
   },
   "outputs": [
    {
     "data": {
      "image/png": "[encoded data removed]",
      "text/plain": [
       "<matplotlib.figure.Figure at 0x7f9dea1b1e80>"
      ]
     },
     "metadata": {},
     "output_type": "display_data"
    }
   ],
   "source": [
    "x, y, coeff = regresion(data[:, MASS_CHANGE_MOL], data[:, SPINS], 2, min_point=-14)\n",
    "text = equation_text(coeff, \"$\\Delta m/n$\")\n",
    "plt.plot( data[:, MASS_CHANGE_MOL], data[:, SPINS], \"-o\")\n",
    "plt.plot(x, y)\n",
    "plt.text(-9, 4.5, \"$f(\\Delta m/n) = $\" + text)\n",
    "plt.xlabel(\"$\\Delta m/n$\")\n",
    "plt.ylabel(\"$N$\")\n",
    "plt.grid()\n",
    "plt.show()"
   ]
  },
  {
   "cell_type": "code",
   "execution_count": 5,
   "metadata": {
    "collapsed": true
   },
   "outputs": [],
   "source": [
    "def get_N(delta):\n",
    "    return 0.020*delta**2-0.102*delta+0.453"
   ]
  },
  {
   "cell_type": "markdown",
   "metadata": {},
   "source": [
    "# N vs force"
   ]
  },
  {
   "cell_type": "code",
   "execution_count": 6,
   "metadata": {
    "collapsed": false,
    "scrolled": true
   },
   "outputs": [
    {
     "data": {
      "image/png": "[encoded data removed]",
      "text/plain": [
       "<matplotlib.figure.Figure at 0x7f9de79282b0>"
      ]
     },
     "metadata": {},
     "output_type": "display_data"
    }
   ],
   "source": [
    "temp = data[:,SPINS]*(data[:,SPINS]+2)\n",
    "x, y, coeff = regresion(data[:, MASS_CHANGE_MOL], temp, 1, min_point=-14)\n",
    "text = equation_text(coeff, \"$\\Delta m/n$\")\n",
    "plt.plot(data[:, MASS_CHANGE_MOL], temp, \"o\")\n",
    "plt.plot(x, y)\n",
    "plt.text(-9, 22, \"$f(N(N+2))=$\"+text)\n",
    "plt.xlabel(\"$\\Delta m/n$\")\n",
    "plt.ylabel(\"$N(N+2)$\")\n",
    "plt.grid()\n",
    "plt.savefig(\"Unpair_Mass.pdf\")\n",
    "plt.show()"
   ]
  },
  {
   "cell_type": "markdown",
   "metadata": {},
   "source": [
    "# Susceptibility vs force"
   ]
  },
  {
   "cell_type": "code",
   "execution_count": 7,
   "metadata": {
    "collapsed": false
   },
   "outputs": [
    {
     "data": {
      "image/png": "[encoded data removed]",
      "text/plain": [
       "<matplotlib.figure.Figure at 0x7f9de765b048>"
      ]
     },
     "metadata": {},
     "output_type": "display_data"
    }
   ],
   "source": [
    "x, y, coeff = regresion(data[:-3,MASS_CHANGE_MOL], data[:-3,MOLAR_MAGNETIC_SUSCEPTIBILITY], 1, min_point=-14)\n",
    "text = equation_text(coeff, \"$\\Delta m/n$\")\n",
    "plt.plot(data[:-3,MASS_CHANGE_MOL], data[:-3,MOLAR_MAGNETIC_SUSCEPTIBILITY], \"o\")\n",
    "plt.plot(x, y, \"-\")\n",
    "plt.text(-7, 9, \"$̧f(\\Delta m/n)=$\"+text)\n",
    "plt.ylabel(\"$\\chi_M$\")\n",
    "plt.xlabel(\"$\\Delta m/n$\")\n",
    "plt.grid()\n",
    "plt.savefig(\"Susceptibility_mass.pdf\")\n",
    "#plt.legend()\n",
    "plt.show()"
   ]
  },
  {
   "cell_type": "code",
   "execution_count": 8,
   "metadata": {
    "collapsed": true
   },
   "outputs": [],
   "source": [
    "def get_chi(delta):\n",
    "    return -1.176*delta-0.211"
   ]
  },
  {
   "cell_type": "code",
   "execution_count": 9,
   "metadata": {
    "collapsed": false
   },
   "outputs": [
    {
     "data": {
      "text/plain": [
       "array([ 0.35245919,  3.01134238])"
      ]
     },
     "execution_count": 9,
     "metadata": {},
     "output_type": "execute_result"
    }
   ],
   "source": [
    "(a, b), cov = np.polyfit(data[:-3,MASS_CHANGE_MOL], data[:-3,MOLAR_MAGNETIC_SUSCEPTIBILITY], 1, cov=True)\n",
    "np.sqrt(np.diag(cov))"
   ]
  },
  {
   "cell_type": "code",
   "execution_count": 10,
   "metadata": {
    "collapsed": false
   },
   "outputs": [
    {
     "name": "stdout",
     "output_type": "stream",
     "text": [
      "FeCl$_3$ · 6H$_2$O & -10.704 & 15.250 & 5.0 \\\\\n",
      "MnSO$_4$ · H$_2$O & -12.494 & 14.200 & 5.0 \\\\\n",
      "Fe$_2$(SO$_4$)$_3$ · 9H$_2$O & -10.158 & 11.200 & 4.0 \\\\\n",
      "CoCl$_2$ · 6H$_2$O & -7.890 & 9.710 & 3.0 \\\\\n",
      "KCr(SO$_4$)$_2$ · 12H$_2$O & -3.691 & 6.200 & 3.0 \\\\\n",
      "NiSO$_4$ · 6H$_2$O & -7.620 & 4.300 & 2.0 \\\\\n",
      "CuSO$_4$ · 5H$_2$O & -1.783 & 1.570 & 1.0 \\\\\n",
      "Fe$_4$[Fe(CN)$_6$] & -8.710 & -172.000 & 0.0 \\\\\n",
      "(NH$_4$)$_2$Cr$_2$O$_7$ & -0.075 & 38.000 & 0.0 \\\\\n",
      "CuCl & -0.787 & -40.000 & 0.0 \\\\\n"
     ]
    }
   ],
   "source": [
    "for i in range(len(names)):\n",
    "    print(names[i], \"&\", \"%.3f\"%data[i, MASS_CHANGE_MOL], \"&\" ,\n",
    "          \"%.3f\"%data[i, MOLAR_MAGNETIC_SUSCEPTIBILITY], \"&\", data[i, SPINS], r\"\\\\\")"
   ]
  },
  {
   "cell_type": "code",
   "execution_count": 11,
   "metadata": {
    "collapsed": true
   },
   "outputs": [],
   "source": [
    "import matplotlib.patches as mpatches\n",
    "from matplotlib.collections import PatchCollection"
   ]
  },
  {
   "cell_type": "code",
   "execution_count": 12,
   "metadata": {
    "collapsed": false
   },
   "outputs": [
    {
     "data": {
      "image/png": "[encoded data removed]",
      "text/plain": [
       "<matplotlib.figure.Figure at 0x7f9de7c14f60>"
      ]
     },
     "metadata": {},
     "output_type": "display_data"
    }
   ],
   "source": [
    "f, axes = plt.subplots(1,2)\n",
    "\n",
    "for (i, ax) in enumerate(axes):\n",
    "    ax.arrow(0, 0, 0, 0.9, head_width=0.05, head_length=0.1, fc='k', ec='k')\n",
    "    ax.arrow(0, 0, 0, -0.9, head_width=0.05, head_length=0.1, fc='k', ec='k')\n",
    "    if i != 0:\n",
    "        ax.arrow(0, 0, 0, -0.5, head_width=0.05, head_length=0.1, fc='r', ec='r')\n",
    "        ax.text(0.05, -0.5, r\"$\\vec{F_B}$\")\n",
    "        ax.text(0.05, 0.9, r\"$\\vec{N'}$\")\n",
    "        \n",
    "    else:\n",
    "        ax.text(0.05, 0.9, r\"$\\vec{N}$\")\n",
    "        \n",
    "    ax.text(0.05, -0.9, r\"$m\\vec{g}$\")\n",
    "    \n",
    "    \n",
    "    rect = mpatches.Rectangle([-0.1/2,-0.1/2], 0.1, 0.3)\n",
    "    collection = PatchCollection([rect])\n",
    "    ax.add_collection(collection)\n",
    "    \n",
    "    ax.set_xlim(-0.5, 0.5)\n",
    "    ax.set_ylim(-1.5, 1.5)\n",
    "    ax.set_axis_off()\n",
    "plt.savefig(\"free_body.pdf\")\n",
    "plt.show()"
   ]
  },
  {
   "cell_type": "code",
   "execution_count": 13,
   "metadata": {
    "collapsed": false
   },
   "outputs": [
    {
     "name": "stdout",
     "output_type": "stream",
     "text": [
      "Para m/n = -2.314 se tienen 0.80 electrones y susceptibilidad 2.511\n",
      "Para m/n = -0.843 se tienen 0.55 electrones y susceptibilidad 0.780\n"
     ]
    }
   ],
   "source": [
    "results = [-0.0081/0.0035, -0.843]\n",
    "for result in results:\n",
    "    print(\"Para m/n = %.3f se tienen %.2f electrones y susceptibilidad %.3f\"%(result,get_N(result), get_chi(result)))"
   ]
  }
 ],
 "metadata": {
  "anaconda-cloud": {},
  "kernelspec": {
   "display_name": "Python [Root]",
   "language": "python",
   "name": "Python [Root]"
  },
  "language_info": {
   "codemirror_mode": {
    "name": "ipython",
    "version": 3
   },
   "file_extension": ".py",
   "mimetype": "text/x-python",
   "name": "python",
   "nbconvert_exporter": "python",
   "pygments_lexer": "ipython3",
   "version": "3.5.2"
  }
 },
 "nbformat": 4,
 "nbformat_minor": 0
}
