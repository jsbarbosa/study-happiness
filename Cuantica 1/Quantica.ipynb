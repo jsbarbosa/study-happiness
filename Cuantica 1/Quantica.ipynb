{
 "cells": [
  {
   "cell_type": "code",
   "execution_count": 1,
   "metadata": {
    "collapsed": true
   },
   "outputs": [],
   "source": [
    "import sympy as spy\n",
    "import numpy as np\n",
    "from IPython.display import display\n",
    "spy.init_printing()"
   ]
  },
  {
   "cell_type": "code",
   "execution_count": 2,
   "metadata": {
    "collapsed": true
   },
   "outputs": [],
   "source": [
    "r, a0, theta, phi, h = spy.symbols(\"r, a_0, \\\\theta, \\phi, \\hbar\", real=True, positive=True)\n",
    "dv = r**2*spy.sin(theta)\n",
    "pos = [r, theta, phi]"
   ]
  },
  {
   "cell_type": "code",
   "execution_count": 3,
   "metadata": {
    "collapsed": false
   },
   "outputs": [
    {
     "data": {
      "image/png": "[encoded data removed]",
      "text/latex": [
       "$$\\frac{1}{\\sqrt{\\pi} a_{0}^{1.5} e^{\\frac{r}{a_{0}}}}$$"
      ],
      "text/plain": [
       "        -r \n",
       "        ───\n",
       "  -1.5   a₀\n",
       "a₀    ⋅ℯ   \n",
       "───────────\n",
       "     √π    "
      ]
     },
     "metadata": {},
     "output_type": "display_data"
    },
    {
     "data": {
      "image/png": "[encoded data removed]",
      "text/latex": [
       "$$\\frac{\\sqrt{2} r \\cos{\\left (\\theta \\right )}}{8 \\sqrt{\\pi} a_{0}^{\\frac{5}{2}} e^{\\frac{r}{2 a_{0}}}}$$"
      ],
      "text/plain": [
       "      -r              \n",
       "      ────            \n",
       "      2⋅a₀            \n",
       "√2⋅r⋅ℯ    ⋅cos(\\theta)\n",
       "──────────────────────\n",
       "             5/2      \n",
       "      8⋅√π⋅a₀         "
      ]
     },
     "metadata": {},
     "output_type": "display_data"
    }
   ],
   "source": [
    "R_10 = 2*a0**(-3/2)*spy.exp(-r/a0)\n",
    "R_21 = 1/spy.sqrt(6*a0**3)*(r/(2*a0))*spy.exp(-r/(2*a0))\n",
    "Y_00 = 1/spy.sqrt(4*spy.pi)\n",
    "Y_10 = spy.sqrt(3/(4*spy.pi))*spy.cos(theta)\n",
    "psi_100 = R_10*Y_00\n",
    "psi_210 = R_21*Y_10\n",
    "display(psi_100)\n",
    "display(psi_210)"
   ]
  },
  {
   "cell_type": "code",
   "execution_count": 4,
   "metadata": {
    "collapsed": false
   },
   "outputs": [
    {
     "data": {
      "image/png": "[encoded data removed]",
      "text/latex": [
       "$$\\left [ - \\frac{1}{\\sqrt{\\pi} a_{0}^{2.5} e^{\\frac{r}{a_{0}}}}, \\quad 0, \\quad 0\\right ]$$"
      ],
      "text/plain": [
       "⎡         -r        ⎤\n",
       "⎢         ───       ⎥\n",
       "⎢   -2.5   a₀       ⎥\n",
       "⎢-a₀    ⋅ℯ          ⎥\n",
       "⎢─────────────, 0, 0⎥\n",
       "⎣      √π           ⎦"
      ]
     },
     "metadata": {},
     "output_type": "display_data"
    },
    {
     "data": {
      "image/png": "[encoded data removed]",
      "text/latex": [
       "$$\\left [ \\frac{\\sqrt{2} \\cos{\\left (\\theta \\right )}}{8 \\sqrt{\\pi} a_{0}^{\\frac{5}{2}} e^{\\frac{r}{2 a_{0}}}} - \\frac{\\sqrt{2} r \\cos{\\left (\\theta \\right )}}{16 \\sqrt{\\pi} a_{0}^{\\frac{7}{2}} e^{\\frac{r}{2 a_{0}}}}, \\quad - \\frac{\\sqrt{2} \\sin{\\left (\\theta \\right )}}{8 \\sqrt{\\pi} a_{0}^{\\frac{5}{2}} e^{\\frac{r}{2 a_{0}}}}, \\quad 0\\right ]$$"
      ],
      "text/plain": [
       "⎡    -r                       -r                     -r                  ⎤\n",
       "⎢    ────                     ────                   ────                ⎥\n",
       "⎢    2⋅a₀                     2⋅a₀                   2⋅a₀                ⎥\n",
       "⎢√2⋅ℯ    ⋅cos(\\theta)   √2⋅r⋅ℯ    ⋅cos(\\theta)  -√2⋅ℯ    ⋅sin(\\theta)    ⎥\n",
       "⎢──────────────────── - ──────────────────────, ──────────────────────, 0⎥\n",
       "⎢            5/2                     7/2                     5/2         ⎥\n",
       "⎣     8⋅√π⋅a₀                16⋅√π⋅a₀                 8⋅√π⋅a₀            ⎦"
      ]
     },
     "metadata": {},
     "output_type": "display_data"
    }
   ],
   "source": [
    "grad_100 = [psi_100.diff(r), 0, 0]\n",
    "grad_210 = [psi_210.diff(r), psi_210.diff(theta)/r, 0]\n",
    "display(grad_100)\n",
    "display(grad_210)"
   ]
  },
  {
   "cell_type": "code",
   "execution_count": 5,
   "metadata": {
    "collapsed": false
   },
   "outputs": [
    {
     "data": {
      "image/png": "[encoded data removed]",
      "text/latex": [
       "$$\\left [ 0, \\quad \\frac{1.0 i \\hbar \\phi r^{2}}{\\pi a_{0}^{4.0} e^{\\frac{2 r}{a_{0}}}} \\sin{\\left (\\theta \\right )}, \\quad - \\frac{1.0 i \\hbar \\theta r^{2}}{\\pi a_{0}^{4.0} e^{\\frac{2 r}{a_{0}}}} \\sin{\\left (\\theta \\right )}\\right ]$$"
      ],
      "text/plain": [
       "⎡                             -2⋅r                                            \n",
       "⎢                             ─────                                           \n",
       "⎢                    -4.0  2    a₀                                   -4.0  2  \n",
       "⎢   1.0⋅ⅈ⋅\\h̅⋅\\phi⋅a₀    ⋅r ⋅ℯ     ⋅sin(\\theta)  -1.0⋅ⅈ⋅\\h̅⋅\\theta⋅a₀    ⋅r ⋅ℯ\n",
       "⎢0, ───────────────────────────────────────────, ─────────────────────────────\n",
       "⎣                        π                                              π     \n",
       "\n",
       "-2⋅r              ⎤\n",
       "─────             ⎥\n",
       "  a₀              ⎥\n",
       "     ⋅sin(\\theta) ⎥\n",
       "──────────────────⎥\n",
       "                  ⎦"
      ]
     },
     "metadata": {},
     "output_type": "display_data"
    },
    {
     "data": {
      "image/png": "[encoded data removed]",
      "text/latex": [
       "$$\\left [ - \\frac{0.03125 i \\hbar \\phi r^{3}}{\\pi a_{0}^{5} e^{\\frac{r}{a_{0}}}} \\sin^{2}{\\left (\\theta \\right )} \\cos{\\left (\\theta \\right )}, \\quad - \\frac{0.125 \\sqrt{2} i \\hbar \\phi r^{3}}{\\sqrt{\\pi} a_{0}^{\\frac{5}{2}} e^{\\frac{r}{2 a_{0}}}} \\left(\\frac{\\sqrt{2} \\cos{\\left (\\theta \\right )}}{8 \\sqrt{\\pi} a_{0}^{\\frac{5}{2}} e^{\\frac{r}{2 a_{0}}}} - \\frac{\\sqrt{2} r \\cos{\\left (\\theta \\right )}}{16 \\sqrt{\\pi} a_{0}^{\\frac{7}{2}} e^{\\frac{r}{2 a_{0}}}}\\right) \\sin{\\left (\\theta \\right )} \\cos{\\left (\\theta \\right )}, \\quad - \\frac{0.125 \\sqrt{2} i \\hbar r^{3}}{\\sqrt{\\pi} a_{0}^{\\frac{5}{2}} e^{\\frac{r}{2 a_{0}}}} \\left(- \\theta \\left(\\frac{\\sqrt{2} \\cos{\\left (\\theta \\right )}}{8 \\sqrt{\\pi} a_{0}^{\\frac{5}{2}} e^{\\frac{r}{2 a_{0}}}} - \\frac{\\sqrt{2} r \\cos{\\left (\\theta \\right )}}{16 \\sqrt{\\pi} a_{0}^{\\frac{7}{2}} e^{\\frac{r}{2 a_{0}}}}\\right) - \\frac{\\sqrt{2} r \\sin{\\left (\\theta \\right )}}{8 \\sqrt{\\pi} a_{0}^{\\frac{5}{2}} e^{\\frac{r}{2 a_{0}}}}\\right) \\sin{\\left (\\theta \\right )} \\cos{\\left (\\theta \\right )}\\right ]$$"
      ],
      "text/plain": [
       "⎡                                                                             \n",
       "⎢                                                                             \n",
       "⎢                                                                             \n",
       "⎢                        -r                                                   \n",
       "⎢                        ───                            -0.125⋅√2⋅ⅈ⋅\\h̅⋅\\phi⋅r\n",
       "⎢                     3   a₀    2                                             \n",
       "⎢-0.03125⋅ⅈ⋅\\h̅⋅\\phi⋅r ⋅ℯ   ⋅sin (\\theta)⋅cos(\\theta)                         \n",
       "⎢─────────────────────────────────────────────────────, ──────────────────────\n",
       "⎢                            5                                                \n",
       "⎣                        π⋅a₀                                                 \n",
       "\n",
       "  ⎛    -r                       -r              ⎞                             \n",
       "  ⎜    ────                     ────            ⎟  -r                         \n",
       "  ⎜    2⋅a₀                     2⋅a₀            ⎟  ────                       \n",
       "3 ⎜√2⋅ℯ    ⋅cos(\\theta)   √2⋅r⋅ℯ    ⋅cos(\\theta)⎟  2⋅a₀                       \n",
       " ⋅⎜──────────────────── - ──────────────────────⎟⋅ℯ    ⋅sin(\\theta)⋅cos(\\theta\n",
       "  ⎜            5/2                     7/2      ⎟                             \n",
       "  ⎝     8⋅√π⋅a₀                16⋅√π⋅a₀         ⎠                             \n",
       "──────────────────────────────────────────────────────────────────────────────\n",
       "                              5/2                                             \n",
       "                         √π⋅a₀                                                \n",
       "\n",
       "                       ⎛         ⎛    -r                       -r             \n",
       "                       ⎜         ⎜    ────                     ────           \n",
       "                       ⎜         ⎜    2⋅a₀                     2⋅a₀           \n",
       "                     3 ⎜         ⎜√2⋅ℯ    ⋅cos(\\theta)   √2⋅r⋅ℯ    ⋅cos(\\theta\n",
       ")   -0.125⋅√2⋅ⅈ⋅\\h̅⋅r ⋅⎜- \\theta⋅⎜──────────────────── - ─────────────────────\n",
       "                       ⎜         ⎜            5/2                     7/2     \n",
       "                       ⎝         ⎝     8⋅√π⋅a₀                16⋅√π⋅a₀        \n",
       "──, ──────────────────────────────────────────────────────────────────────────\n",
       "                                                                        5/2   \n",
       "                                                                   √π⋅a₀      \n",
       "\n",
       " ⎞         -r              ⎞                               ⎤\n",
       " ⎟         ────            ⎟  -r                           ⎥\n",
       " ⎟         2⋅a₀            ⎟  ────                         ⎥\n",
       ")⎟   √2⋅r⋅ℯ    ⋅sin(\\theta)⎟  2⋅a₀                         ⎥\n",
       "─⎟ - ──────────────────────⎟⋅ℯ    ⋅sin(\\theta)⋅cos(\\theta) ⎥\n",
       " ⎟                5/2      ⎟                               ⎥\n",
       " ⎠         8⋅√π⋅a₀         ⎠                               ⎥\n",
       "───────────────────────────────────────────────────────────⎥\n",
       "                                                           ⎥\n",
       "                                                           ⎦"
      ]
     },
     "metadata": {},
     "output_type": "display_data"
    }
   ],
   "source": [
    "momentum_100 = -1j*h*np.cross(pos, grad_100)\n",
    "momentum_210 = -1j*h*np.cross(pos, grad_210)\n",
    "esp_100 = list(momentum_100*psi_100*dv)\n",
    "esp_210 = list(momentum_210*psi_210*dv)\n",
    "display(esp_100)\n",
    "display(esp_210)"
   ]
  },
  {
   "cell_type": "code",
   "execution_count": 6,
   "metadata": {
    "collapsed": false
   },
   "outputs": [
    {
     "data": {
      "image/png": "[encoded data removed]",
      "text/latex": [
       "$$\\left [ 0, \\quad \\frac{1.0 \\pi}{a_{0}^{1.0}} i \\hbar, \\quad - \\frac{0.5 \\pi}{a_{0}^{1.0}} i \\hbar\\right ]$$"
      ],
      "text/plain": [
       "⎡                 -1.0                 -1.0⎤\n",
       "⎣0, 1.0⋅ⅈ⋅π⋅\\h̅⋅a₀    , -0.5⋅ⅈ⋅π⋅\\h̅⋅a₀    ⎦"
      ]
     },
     "metadata": {},
     "output_type": "display_data"
    },
    {
     "data": {
      "image/png": "[encoded data removed]",
      "text/latex": [
       "$$\\left [ 0, \\quad \\frac{0.25 \\pi}{a_{0}} i \\hbar, \\quad - \\frac{0.125 \\pi}{a_{0}} i \\hbar\\right ]$$"
      ],
      "text/plain": [
       "⎡   0.25⋅ⅈ⋅π⋅\\h̅  -0.125⋅ⅈ⋅π⋅\\h̅ ⎤\n",
       "⎢0, ────────────, ───────────────⎥\n",
       "⎣        a₀              a₀      ⎦"
      ]
     },
     "metadata": {},
     "output_type": "display_data"
    }
   ],
   "source": [
    "int_100 = []\n",
    "int_210 = []\n",
    "for i in range(3):\n",
    "    val_100 = esp_100[i]\n",
    "    val_210 = esp_210[i]\n",
    "    half_100 = spy.integrate(val_100, (theta, 0, spy.pi), (phi, 0, 2*spy.pi), (r, 0, spy.oo))\n",
    "    half_210 = spy.integrate(val_210.simplify(), (phi, 0, 2*spy.pi), (theta, 0, spy.pi), (r, 0, spy.oo))\n",
    "    int_100.append(half_100)\n",
    "    int_210.append(half_210)\n",
    "display(int_100)\n",
    "display(int_210)"
   ]
  },
  {
   "cell_type": "code",
   "execution_count": 7,
   "metadata": {
    "collapsed": false
   },
   "outputs": [
    {
     "data": {
      "image/png": "[encoded data removed]",
      "text/latex": [
       "$$\\left [ 0, \\quad \\frac{0.85 \\pi}{a_{0}^{1.0}} i \\hbar, \\quad - \\frac{0.425 \\pi}{a_{0}^{1.0}} i \\hbar\\right ]$$"
      ],
      "text/plain": [
       "⎡                  -1.0                   -1.0⎤\n",
       "⎣0, 0.85⋅ⅈ⋅π⋅\\h̅⋅a₀    , -0.425⋅ⅈ⋅π⋅\\h̅⋅a₀    ⎦"
      ]
     },
     "metadata": {},
     "output_type": "display_data"
    },
    {
     "data": {
      "image/png": "[encoded data removed]",
      "text/latex": [
       "$$\\frac{0.903125 \\pi^{2}}{a_{0}^{2.0}} \\hbar^{2}$$"
      ],
      "text/plain": [
       "          2    2   -2.0\n",
       "0.903125⋅π ⋅\\h̅ ⋅a₀    "
      ]
     },
     "metadata": {},
     "output_type": "display_data"
    }
   ],
   "source": [
    "expected_L = [0]*3\n",
    "for i in range(3):\n",
    "    expected_L[i] = ((4/5)*int_100[i] + (1/5)*int_210[i]).simplify()\n",
    "    \n",
    "mag = -np.dot(expected_L, expected_L)\n",
    "display(expected_L)\n",
    "display(mag)"
   ]
  },
  {
   "cell_type": "code",
   "execution_count": 8,
   "metadata": {
    "collapsed": false
   },
   "outputs": [
    {
     "data": {
      "image/png": "[encoded data removed]",
      "text/latex": [
       "$$\\frac{\\hbar}{a_{0}^{1.0}} \\sqrt{0.4 a_{0}^{2.0} + 0.903125 \\pi^{2}}$$"
      ],
      "text/plain": [
       "              _________________________\n",
       "      -1.0   ╱       2.0             2 \n",
       "\\h̅⋅a₀    ⋅╲╱  0.4⋅a₀    + 0.903125⋅π  "
      ]
     },
     "metadata": {},
     "output_type": "display_data"
    }
   ],
   "source": [
    "uncertainty = spy.sqrt((2/5)*h**2 + mag)\n",
    "display(uncertainty.simplify())"
   ]
  },
  {
   "cell_type": "code",
   "execution_count": null,
   "metadata": {
    "collapsed": true
   },
   "outputs": [],
   "source": []
  }
 ],
 "metadata": {
  "anaconda-cloud": {},
  "kernelspec": {
   "display_name": "Python [default]",
   "language": "python",
   "name": "python3"
  },
  "language_info": {
   "codemirror_mode": {
    "name": "ipython",
    "version": 3
   },
   "file_extension": ".py",
   "mimetype": "text/x-python",
   "name": "python",
   "nbconvert_exporter": "python",
   "pygments_lexer": "ipython3",
   "version": "3.4.4"
  }
 },
 "nbformat": 4,
 "nbformat_minor": 2
}
