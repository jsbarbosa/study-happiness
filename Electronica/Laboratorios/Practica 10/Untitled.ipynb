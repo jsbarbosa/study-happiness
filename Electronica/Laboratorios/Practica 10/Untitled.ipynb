{
 "cells": [
  {
   "cell_type": "code",
   "execution_count": 16,
   "metadata": {
    "collapsed": true
   },
   "outputs": [],
   "source": [
    "from IPython.display import display\n",
    "import sympy as spy\n",
    "spy.init_printing()"
   ]
  },
  {
   "cell_type": "code",
   "execution_count": 25,
   "metadata": {
    "collapsed": false
   },
   "outputs": [],
   "source": [
    "Re, Rb, Rc, Ve, Vin, Vbeon, Vb, Vc = spy.symbols('R_e R_b R_c V_e V_{in} V_{beON} V_b V_c', real = True, positive = True)\n",
    "beta = spy.symbols(r'\\beta', real = True, positive = True)\n",
    "\n",
    "exp = (Vin-Ve-Vbeon)*(1+beta)*Re/Rb - Ve\n",
    "Ve = spy.solve(exp, Ve)[0]\n",
    "Vb = (Ve + Vbeon).simplify()"
   ]
  },
  {
   "cell_type": "code",
   "execution_count": 63,
   "metadata": {
    "collapsed": false
   },
   "outputs": [
    {
     "data": {
      "image/png": "[encoded data removed]",
      "text/latex": [
       "$$V_{e}$$"
      ],
      "text/plain": [
       "Vₑ"
      ]
     },
     "metadata": {},
     "output_type": "display_data"
    }
   ],
   "source": [
    "subs = [(Vbeon, 0.7), (beta, 100), (Rb, 1e3), (Re, 3.3e3), (Rc, 4.7e3), (Vcesat, 0.2)]\n",
    "display(Ve.subs(subs))"
   ]
  },
  {
   "cell_type": "code",
   "execution_count": 43,
   "metadata": {
    "collapsed": false
   },
   "outputs": [],
   "source": [
    "exp = beta*(Vin-Vb)/Rb - (10-Vc)/Rc\n",
    "Vc = spy.solve(exp, Vc)[0].simplify()"
   ]
  },
  {
   "cell_type": "code",
   "execution_count": 46,
   "metadata": {
    "collapsed": false
   },
   "outputs": [
    {
     "data": {
      "image/png": "[encoded data removed]",
      "text/latex": [
       "$$2.99132515704467 \\cdot 10^{-6} V_{in} - 2.0939276099312 \\cdot 10^{-6}$$"
      ],
      "text/plain": [
       "2.99132515704467e-6⋅V_{in} - 2.0939276099312e-6"
      ]
     },
     "execution_count": 46,
     "metadata": {},
     "output_type": "execute_result"
    }
   ],
   "source": [
    "((Vin - Vb)/Rb).subs(subs)"
   ]
  },
  {
   "cell_type": "code",
   "execution_count": 48,
   "metadata": {
    "collapsed": false
   },
   "outputs": [
    {
     "data": {
      "image/png": "[encoded data removed]",
      "text/latex": [
       "$$0.000302123840861502 V_{in} - 0.000211486688603051$$"
      ],
      "text/plain": [
       "0.000302123840861502⋅V_{in} - 0.000211486688603051"
      ]
     },
     "execution_count": 48,
     "metadata": {},
     "output_type": "execute_result"
    }
   ],
   "source": [
    "(Ve/Re).subs(subs)"
   ]
  },
  {
   "cell_type": "code",
   "execution_count": 50,
   "metadata": {
    "collapsed": false
   },
   "outputs": [
    {
     "data": {
      "image/png": "[encoded data removed]",
      "text/latex": [
       "$$0.000299132515704457 V_{in} - 0.00020939276099312$$"
      ],
      "text/plain": [
       "0.000299132515704457⋅V_{in} - 0.00020939276099312"
      ]
     },
     "execution_count": 50,
     "metadata": {},
     "output_type": "execute_result"
    }
   ],
   "source": [
    "((10-Vc)/Rc).subs(subs)"
   ]
  },
  {
   "cell_type": "code",
   "execution_count": 59,
   "metadata": {
    "collapsed": false
   },
   "outputs": [
    {
     "data": {
      "image/png": "[encoded data removed]",
      "text/latex": [
       "$$4.77835179882983$$"
      ],
      "text/plain": [
       "4.77835179882983"
      ]
     },
     "execution_count": 59,
     "metadata": {},
     "output_type": "execute_result"
    }
   ],
   "source": [
    "Vce = (Vc-Ve).simplify()\n",
    "spy.solve(Vce - 0.2, Vin)[0].subs(subs)"
   ]
  },
  {
   "cell_type": "code",
   "execution_count": 57,
   "metadata": {
    "collapsed": false
   },
   "outputs": [
    {
     "data": {
      "image/png": "[encoded data removed]",
      "text/latex": [
       "$$\\frac{1}{R_{b} + R_{e} \\beta + R_{e}} \\left(10 R_{b} + R_{c} V_{beON} \\beta - R_{c} V_{in} \\beta + 10 R_{e} \\beta + R_{e} \\left(V_{beON} \\beta + V_{beON} - V_{in} \\beta - V_{in}\\right) + 10 R_{e}\\right)$$"
      ],
      "text/plain": [
       "10⋅R_b + R_c⋅V_{beON}⋅\\beta - R_c⋅V_{in}⋅\\beta + 10⋅Rₑ⋅\\beta + Rₑ⋅(V_{beON}⋅\\b\n",
       "──────────────────────────────────────────────────────────────────────────────\n",
       "                                                     R_b + Rₑ⋅\\beta + Rₑ      \n",
       "\n",
       "eta + V_{beON} - V_{in}⋅\\beta - V_{in}) + 10⋅Rₑ\n",
       "───────────────────────────────────────────────\n",
       "                                               "
      ]
     },
     "metadata": {},
     "output_type": "display_data"
    }
   ],
   "source": [
    "display(Vce)"
   ]
  },
  {
   "cell_type": "code",
   "execution_count": 77,
   "metadata": {
    "collapsed": true
   },
   "outputs": [],
   "source": [
    "Re, Rb, Rc, Ve, Vin, Vbeon, Vb, Vc, Vcesat = spy.symbols('R_e R_b R_c V_e V_{in} V_{beON} V_b V_c V_{CESAT}', real = True, positive = True)\n",
    "\n",
    "Ib = (Vin - Vbeon - Ve)/Rb\n",
    "Ic = (10 - Vcesat - Ve)/Rc\n",
    "Ie = Ve/Re"
   ]
  },
  {
   "cell_type": "code",
   "execution_count": 78,
   "metadata": {
    "collapsed": false
   },
   "outputs": [],
   "source": [
    "Ve = spy.solve(Ib + Ic - Ie, Ve)[0].simplify().subs(subs)\n",
    "Vb = Vbeon + Ve\n",
    "Vc = Vcesat + Ve"
   ]
  },
  {
   "cell_type": "code",
   "execution_count": 79,
   "metadata": {
    "collapsed": true
   },
   "outputs": [],
   "source": [
    "Ib = (Vin - Vb)/Rb\n",
    "Ic = (10 - Vc)/Rc\n",
    "Ie = Ve/Re"
   ]
  },
  {
   "cell_type": "code",
   "execution_count": 80,
   "metadata": {
    "collapsed": false
   },
   "outputs": [
    {
     "data": {
      "image/png": "[encoded data removed]",
      "text/latex": [
       "$$0.000340280731603573 V_{in} - 0.00161378136962994$$"
      ],
      "text/plain": [
       "0.000340280731603573⋅V_{in} - 0.00161378136962994"
      ]
     },
     "metadata": {},
     "output_type": "display_data"
    },
    {
     "data": {
      "image/png": "[encoded data removed]",
      "text/latex": [
       "$$- 0.000140365801786474 V_{in} + 0.00189068481497235$$"
      ],
      "text/plain": [
       "-0.000140365801786474⋅V_{in} + 0.00189068481497235"
      ]
     },
     "metadata": {},
     "output_type": "display_data"
    },
    {
     "data": {
      "image/png": "[encoded data removed]",
      "text/latex": [
       "$$0.000199914929817099 V_{in} + 0.000276903445342407$$"
      ],
      "text/plain": [
       "0.000199914929817099⋅V_{in} + 0.000276903445342407"
      ]
     },
     "metadata": {},
     "output_type": "display_data"
    }
   ],
   "source": [
    "display(Ib.subs(subs))\n",
    "display(Ic.subs(subs))\n",
    "display(Ie.subs(subs))"
   ]
  },
  {
   "cell_type": "code",
   "execution_count": 84,
   "metadata": {
    "collapsed": false
   },
   "outputs": [
    {
     "data": {
      "image/png": "[encoded data removed]",
      "text/latex": [
       "$$4.77835179882983$$"
      ],
      "text/plain": [
       "4.77835179882983"
      ]
     },
     "execution_count": 84,
     "metadata": {},
     "output_type": "execute_result"
    }
   ],
   "source": [
    "spy.solve(Ib*beta - Ic, Vin)[0].subs(subs)"
   ]
  },
  {
   "cell_type": "code",
   "execution_count": null,
   "metadata": {
    "collapsed": true
   },
   "outputs": [],
   "source": []
  }
 ],
 "metadata": {
  "kernelspec": {
   "display_name": "Python [Root]",
   "language": "python",
   "name": "Python [Root]"
  },
  "language_info": {
   "codemirror_mode": {
    "name": "ipython",
    "version": 3
   },
   "file_extension": ".py",
   "mimetype": "text/x-python",
   "name": "python",
   "nbconvert_exporter": "python",
   "pygments_lexer": "ipython3",
   "version": "3.5.2"
  }
 },
 "nbformat": 4,
 "nbformat_minor": 0
}
