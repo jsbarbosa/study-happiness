{
 "cells": [
  {
   "cell_type": "code",
   "execution_count": 1,
   "metadata": {
    "collapsed": true
   },
   "outputs": [],
   "source": [
    "import numpy as np\n",
    "import matplotlib.pyplot as plt\n",
    "%matplotlib inline"
   ]
  },
  {
   "cell_type": "code",
   "execution_count": 2,
   "metadata": {
    "collapsed": true
   },
   "outputs": [],
   "source": [
    "from IPython.display import display\n",
    "import sympy as spy\n",
    "spy.init_printing()"
   ]
  },
  {
   "cell_type": "code",
   "execution_count": 3,
   "metadata": {
    "collapsed": true
   },
   "outputs": [],
   "source": [
    "omega, R, L, C = spy.symbols('\\omega R L C', real = True, positive = True)"
   ]
  },
  {
   "cell_type": "code",
   "execution_count": 4,
   "metadata": {
    "collapsed": false
   },
   "outputs": [],
   "source": [
    "Zeq = 1j*omega*C + 1/(1j*omega*L)\n",
    "Zeq = 1/(Zeq)\n",
    "\n",
    "Zeq = Zeq + R\n",
    "\n",
    "trans = (1/Zeq).simplify()\n",
    "\n",
    "real, imag = trans.as_real_imag()\n",
    "amplitude = spy.sqrt(real**2 + imag**2).simplify()\n",
    "phase = spy.atan(imag/real).simplify()"
   ]
  },
  {
   "cell_type": "code",
   "execution_count": 5,
   "metadata": {
    "collapsed": false
   },
   "outputs": [
    {
     "data": {
      "image/png": "[encoded data removed]",
      "text/latex": [
       "$$\\frac{1.0 i \\left(C L \\omega^{2} - 1\\right)}{L \\omega + 1.0 i R \\left(C L \\omega^{2} - 1\\right)}$$"
      ],
      "text/plain": [
       "            ⎛          2    ⎞       \n",
       "      1.0⋅ⅈ⋅⎝C⋅L⋅\\omega  - 1⎠       \n",
       "────────────────────────────────────\n",
       "                   ⎛          2    ⎞\n",
       "L⋅\\omega + 1.0⋅ⅈ⋅R⋅⎝C⋅L⋅\\omega  - 1⎠"
      ]
     },
     "metadata": {},
     "output_type": "display_data"
    },
    {
     "name": "stdout",
     "output_type": "stream",
     "text": [
      "Amplitude\n"
     ]
    },
    {
     "data": {
      "image/png": "[encoded data removed]",
      "text/latex": [
       "$$\\frac{1.0 \\sqrt{L^{2} \\omega^{2} + R^{2} \\left(C L \\omega^{2} - 1\\right)^{2}} \\left|{C L \\omega^{2} - 1}\\right|}{L^{2} \\omega^{2} + 1.0 R^{2} \\left(C L \\omega^{2} - 1\\right)^{2}}$$"
      ],
      "text/plain": [
       "        ____________________________________                  \n",
       "       ╱                                  2                   \n",
       "      ╱   2       2    2 ⎛          2    ⎞   │          2    │\n",
       "1.0⋅╲╱   L ⋅\\omega  + R ⋅⎝C⋅L⋅\\omega  - 1⎠  ⋅│C⋅L⋅\\omega  - 1│\n",
       "──────────────────────────────────────────────────────────────\n",
       "                                                 2            \n",
       "             2       2        2 ⎛          2    ⎞             \n",
       "            L ⋅\\omega  + 1.0⋅R ⋅⎝C⋅L⋅\\omega  - 1⎠             "
      ]
     },
     "metadata": {},
     "output_type": "display_data"
    },
    {
     "name": "stdout",
     "output_type": "stream",
     "text": [
      "Phase\n"
     ]
    },
    {
     "data": {
      "image/png": "[encoded data removed]",
      "text/latex": [
       "$$\\operatorname{atan}{\\left (\\frac{1.0 L \\omega}{R \\left(C L \\omega^{2} - 1\\right)} \\right )}$$"
      ],
      "text/plain": [
       "    ⎛    1.0⋅L⋅\\omega   ⎞\n",
       "atan⎜───────────────────⎟\n",
       "    ⎜  ⎛          2    ⎞⎟\n",
       "    ⎝R⋅⎝C⋅L⋅\\omega  - 1⎠⎠"
      ]
     },
     "metadata": {},
     "output_type": "display_data"
    }
   ],
   "source": [
    "display(trans)\n",
    "print('Amplitude')\n",
    "display(amplitude)\n",
    "\n",
    "print('Phase')\n",
    "display(phase)"
   ]
  },
  {
   "cell_type": "code",
   "execution_count": 6,
   "metadata": {
    "collapsed": false
   },
   "outputs": [],
   "source": [
    "N = 100\n",
    "freq = np.logspace(0, 8, N)\n",
    "T_amp = np.zeros_like(freq)\n",
    "T_pha = np.zeros_like(freq)\n",
    "results = np.zeros_like(freq, dtype=complex)\n",
    "\n",
    "substitutions = [(R, 1e3), (C, 1e-9), (L, 1e-6)]\n",
    "amplitude = amplitude.subs(substitutions)\n",
    "trans = trans.subs(substitutions)\n",
    "phase = phase.subs(substitutions)\n",
    "for (i,f) in enumerate(freq):\n",
    "    T_amp[i] = float(amplitude.evalf(subs={omega:f*2*np.pi}))\n",
    "    T_pha[i] = float(phase.evalf(subs={omega:f*2*np.pi}))\n",
    "    results[i] = trans.evalf(subs={omega:f*2*np.pi})"
   ]
  },
  {
   "cell_type": "code",
   "execution_count": 7,
   "metadata": {
    "collapsed": false
   },
   "outputs": [
    {
     "data": {
      "image/png": "[encoded data removed]",
      "text/plain": [
       "<matplotlib.figure.Figure at 0x7fb7f86ea588>"
      ]
     },
     "metadata": {},
     "output_type": "display_data"
    }
   ],
   "source": [
    "fig, (ax1, ax2) = plt.subplots(2, sharex=True)\n",
    "ax1.plot(freq, T_amp)\n",
    "ax1.set_ylabel(\"Funcion de transferencia\")\n",
    "ax1.set_xscale('log')\n",
    "ax1.grid()\n",
    "\n",
    "ax2.plot(freq, T_pha)\n",
    "ax2.set_ylabel('Fase')\n",
    "ax2.set_xlabel('Frequencia (Hz)')\n",
    "ax2.grid()"
   ]
  },
  {
   "cell_type": "code",
   "execution_count": 8,
   "metadata": {
    "collapsed": true
   },
   "outputs": [],
   "source": [
    "V_0, T = spy.symbols('V_0 T', positive = True, real = True)"
   ]
  },
  {
   "cell_type": "code",
   "execution_count": 9,
   "metadata": {
    "collapsed": false
   },
   "outputs": [
    {
     "data": {
      "image/png": "[encoded data removed]",
      "text/latex": [
       "$$\\frac{1.0 \\left(1.0 \\cdot 10^{-15} \\omega^{2} - 1\\right) \\left(e^{0.01 i \\omega} - 1\\right) e^{- 0.01 i \\omega}}{\\omega \\left(1.0 \\cdot 10^{-6} \\omega + 1000.0 i \\left(1.0 \\cdot 10^{-15} \\omega^{2} - 1\\right)\\right)}$$"
      ],
      "text/plain": [
       "    ⎛              2    ⎞ ⎛ 0.01⋅ⅈ⋅\\omega    ⎞  -0.01⋅ⅈ⋅\\omega\n",
       "1.0⋅⎝1.0e-15⋅\\omega  - 1⎠⋅⎝ℯ              - 1⎠⋅ℯ              \n",
       "──────────────────────────────────────────────────────────────\n",
       "          ⎛                         ⎛              2    ⎞⎞    \n",
       "   \\omega⋅⎝1.0e-6⋅\\omega + 1000.0⋅ⅈ⋅⎝1.0e-15⋅\\omega  - 1⎠⎠    "
      ]
     },
     "metadata": {},
     "output_type": "display_data"
    }
   ],
   "source": [
    "T = 10e-3\n",
    "I = trans * 1j * (V_0/omega) * (spy.exp(-1j*omega*T)-1)\n",
    "I = I.subs([(V_0, 1)])\n",
    "display(I.simplify())"
   ]
  },
  {
   "cell_type": "code",
   "execution_count": 10,
   "metadata": {
    "collapsed": false
   },
   "outputs": [],
   "source": [
    "N = 1000\n",
    "freq = np.linspace(1e1, 1e4, N)\n",
    "results = np.zeros_like(freq, dtype=complex)\n",
    "\n",
    "for (i,f) in enumerate(freq):\n",
    "    temp = I.evalf(subs={omega : f*2*np.pi})\n",
    "    results[i] = float(spy.re(temp)) + 1j*float(spy.im(temp))\n",
    "    \n",
    "results *= 1e3"
   ]
  },
  {
   "cell_type": "code",
   "execution_count": 11,
   "metadata": {
    "collapsed": false
   },
   "outputs": [
    {
     "data": {
      "text/plain": [
       "<matplotlib.text.Text at 0x7fb7f835e9e8>"
      ]
     },
     "execution_count": 11,
     "metadata": {},
     "output_type": "execute_result"
    },
    {
     "data": {
      "image/png": "[encoded data removed]",
      "text/plain": [
       "<matplotlib.figure.Figure at 0x7fb7f86e91d0>"
      ]
     },
     "metadata": {},
     "output_type": "display_data"
    }
   ],
   "source": [
    "plt.plot(freq, abs(results), label = 'Amplitude')\n",
    "plt.xscale('log')\n",
    "plt.xlabel('Freq (Hz)')\n",
    "plt.ylabel('Current amplitude (mA)')"
   ]
  },
  {
   "cell_type": "code",
   "execution_count": 12,
   "metadata": {
    "collapsed": false
   },
   "outputs": [],
   "source": [
    "time = np.linspace(0, 1, 1000)\n",
    "temp = np.zeros_like(time, dtype=complex)\n",
    "\n",
    "N = len(time)\n",
    "n = np.arange(N)\n",
    "for (j, i) in enumerate(time):\n",
    "    value = sum(results*np.exp(2*np.pi*1j*freq*i/N))\n",
    "    temp[j] = value/N"
   ]
  },
  {
   "cell_type": "code",
   "execution_count": 13,
   "metadata": {
    "collapsed": false
   },
   "outputs": [
    {
     "data": {
      "image/png": "[encoded data removed]",
      "text/plain": [
       "<matplotlib.figure.Figure at 0x7fb7f5959b70>"
      ]
     },
     "metadata": {},
     "output_type": "display_data"
    }
   ],
   "source": [
    "plt.plot(time, abs(temp))\n",
    "plt.xscale('log')"
   ]
  },
  {
   "cell_type": "code",
   "execution_count": null,
   "metadata": {
    "collapsed": true
   },
   "outputs": [],
   "source": []
  }
 ],
 "metadata": {
  "anaconda-cloud": {},
  "kernelspec": {
   "display_name": "Python [Root]",
   "language": "python",
   "name": "Python [Root]"
  },
  "language_info": {
   "codemirror_mode": {
    "name": "ipython",
    "version": 3
   },
   "file_extension": ".py",
   "mimetype": "text/x-python",
   "name": "python",
   "nbconvert_exporter": "python",
   "pygments_lexer": "ipython3",
   "version": "3.5.2"
  }
 },
 "nbformat": 4,
 "nbformat_minor": 0
}
