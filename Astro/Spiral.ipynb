{
 "cells": [
  {
   "cell_type": "code",
   "execution_count": 1,
   "metadata": {
    "collapsed": false
   },
   "outputs": [],
   "source": [
    "import numpy as np\n",
    "import matplotlib.pyplot as plt\n",
    "from matplotlib.animation import FuncAnimation\n",
    "from mpl_toolkits.mplot3d import Axes3D\n",
    "#%matplotlib"
   ]
  },
  {
   "cell_type": "code",
   "execution_count": 2,
   "metadata": {
    "collapsed": true
   },
   "outputs": [],
   "source": [
    "def galaxy(arms = 5):\n",
    "    N = 10000\n",
    "    a = 0.6\n",
    "    b = 0.5\n",
    "    t = np.random.randn(N)\n",
    "\n",
    "#    theta = 2*np.pi*np.random.random(N)\n",
    "#    r = np.random.random(N)/2\n",
    "#    x = r*np.cos(theta)\n",
    "#    y = r*np.sin(theta)\n",
    "    x = np.array([0])\n",
    "    y = np.array([0])\n",
    "\n",
    "    for i in range(arms):\n",
    "        xt = a*np.exp(b*t)*np.cos(t+2*i*np.pi/arms) + np.random.normal(0, a*0.2, N)\n",
    "        yt = a*np.exp(b*t)*np.sin(t+2*i*np.pi/arms) + np.random.normal(0, a*0.2, N)\n",
    "        x = np.hstack((x, xt))\n",
    "        y = np.hstack((y, yt))\n",
    "        \n",
    "    return x, y"
   ]
  },
  {
   "cell_type": "code",
   "execution_count": 3,
   "metadata": {
    "collapsed": false
   },
   "outputs": [],
   "source": [
    "x, y = galaxy()   \n",
    "frames = 60\n",
    "phi = 2*np.pi/frames\n",
    "\n",
    "fig, ax = plt.subplots(facecolor='black')\n",
    "ax.set_axis_off()\n",
    "ax.set_facecolor('black')\n",
    "points, = ax.plot(x, y, \"o\", ms=0.1, c=\"w\")\n",
    "ax.set_xlim(-2, 2)\n",
    "ax.set_ylim(-2, 2)\n",
    "def update(i):\n",
    "    xt = x*np.cos(i*phi) - y*np.sin(i*phi)\n",
    "    yt = x*np.sin(i*phi) + y*np.cos(i*phi)\n",
    "    points.set_data(xt, yt)\n",
    "    return points,\n",
    "    \n",
    "ani = FuncAnimation(fig, update, interval=60, frames = frames)\n",
    "ani.save('ani.gif', writer='imagemagick')"
   ]
  },
  {
   "cell_type": "code",
   "execution_count": null,
   "metadata": {
    "collapsed": true
   },
   "outputs": [],
   "source": []
  }
 ],
 "metadata": {
  "anaconda-cloud": {},
  "kernelspec": {
   "display_name": "Python [conda root]",
   "language": "python",
   "name": "conda-root-py"
  },
  "language_info": {
   "codemirror_mode": {
    "name": "ipython",
    "version": 3
   },
   "file_extension": ".py",
   "mimetype": "text/x-python",
   "name": "python",
   "nbconvert_exporter": "python",
   "pygments_lexer": "ipython3",
   "version": "3.4.4"
  }
 },
 "nbformat": 4,
 "nbformat_minor": 2
}
