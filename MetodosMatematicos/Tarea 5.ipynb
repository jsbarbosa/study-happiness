{
 "cells": [
  {
   "cell_type": "code",
   "execution_count": 1,
   "metadata": {
    "collapsed": true
   },
   "outputs": [],
   "source": [
    "import numpy as np\n",
    "import matplotlib.pyplot as plt\n",
    "%matplotlib inline"
   ]
  },
  {
   "cell_type": "code",
   "execution_count": 15,
   "metadata": {
    "collapsed": true
   },
   "outputs": [],
   "source": [
    "from IPython.display import display\n",
    "import sympy as spy\n",
    "spy.init_printing()"
   ]
  },
  {
   "cell_type": "code",
   "execution_count": 126,
   "metadata": {
    "collapsed": true
   },
   "outputs": [],
   "source": [
    "omega, R, L, C = spy.symbols('\\omega R L C', real = True, positive = True)"
   ]
  },
  {
   "cell_type": "code",
   "execution_count": 127,
   "metadata": {
    "collapsed": false
   },
   "outputs": [],
   "source": [
    "Zeq = 1j*omega*C + 1/(1j*omega*L)\n",
    "Zeq = 1/(Zeq)\n",
    "\n",
    "Zeq = Zeq + R\n",
    "T = (1/Zeq).simplify()\n",
    "\n",
    "real, imag = T.as_real_imag()\n",
    "amplitude = spy.sqrt(real**2 + imag**2).simplify()\n",
    "phase = spy.atan(imag/real).simplify()"
   ]
  },
  {
   "cell_type": "code",
   "execution_count": 130,
   "metadata": {
    "collapsed": false
   },
   "outputs": [
    {
     "data": {
      "image/png": "[encoded data removed]",
      "text/latex": [
       "$$\\frac{1.0 i \\left(C L \\omega^{2} - 1\\right)}{L \\omega + 1.0 i R \\left(C L \\omega^{2} - 1\\right)}$$"
      ],
      "text/plain": [
       "            ⎛          2    ⎞       \n",
       "      1.0⋅ⅈ⋅⎝C⋅L⋅\\omega  - 1⎠       \n",
       "────────────────────────────────────\n",
       "                   ⎛          2    ⎞\n",
       "L⋅\\omega + 1.0⋅ⅈ⋅R⋅⎝C⋅L⋅\\omega  - 1⎠"
      ]
     },
     "metadata": {},
     "output_type": "display_data"
    },
    {
     "name": "stdout",
     "output_type": "stream",
     "text": [
      "Amplitude\n"
     ]
    },
    {
     "data": {
      "image/png": "[encoded data removed]",
      "text/latex": [
       "$$\\frac{1.0 \\sqrt{L^{2} \\omega^{2} + R^{2} \\left(C L \\omega^{2} - 1\\right)^{2}} \\left|{C L \\omega^{2} - 1}\\right|}{L^{2} \\omega^{2} + 1.0 R^{2} \\left(C L \\omega^{2} - 1\\right)^{2}}$$"
      ],
      "text/plain": [
       "        ____________________________________                  \n",
       "       ╱                                  2                   \n",
       "      ╱   2       2    2 ⎛          2    ⎞   │          2    │\n",
       "1.0⋅╲╱   L ⋅\\omega  + R ⋅⎝C⋅L⋅\\omega  - 1⎠  ⋅│C⋅L⋅\\omega  - 1│\n",
       "──────────────────────────────────────────────────────────────\n",
       "                                                 2            \n",
       "             2       2        2 ⎛          2    ⎞             \n",
       "            L ⋅\\omega  + 1.0⋅R ⋅⎝C⋅L⋅\\omega  - 1⎠             "
      ]
     },
     "metadata": {},
     "output_type": "display_data"
    },
    {
     "name": "stdout",
     "output_type": "stream",
     "text": [
      "Phase\n"
     ]
    },
    {
     "data": {
      "image/png": "[encoded data removed]",
      "text/latex": [
       "$$\\operatorname{atan}{\\left (\\frac{1.0 L \\omega}{R \\left(C L \\omega^{2} - 1\\right)} \\right )}$$"
      ],
      "text/plain": [
       "    ⎛    1.0⋅L⋅\\omega   ⎞\n",
       "atan⎜───────────────────⎟\n",
       "    ⎜  ⎛          2    ⎞⎟\n",
       "    ⎝R⋅⎝C⋅L⋅\\omega  - 1⎠⎠"
      ]
     },
     "metadata": {},
     "output_type": "display_data"
    }
   ],
   "source": [
    "display(T)\n",
    "print('Amplitude')\n",
    "display(amplitude)\n",
    "\n",
    "print('Phase')\n",
    "display(phase)"
   ]
  },
  {
   "cell_type": "code",
   "execution_count": 37,
   "metadata": {
    "collapsed": false
   },
   "outputs": [
    {
     "data": {
      "image/png": "[encoded data removed]",
      "text/latex": [
       "$$\\operatorname{atan}{\\left (\\frac{1.0 L \\omega}{R \\left(C L \\omega^{2} - 1\\right)} \\right )}$$"
      ],
      "text/plain": [
       "    ⎛    1.0⋅L⋅\\omega   ⎞\n",
       "atan⎜───────────────────⎟\n",
       "    ⎜  ⎛          2    ⎞⎟\n",
       "    ⎝R⋅⎝C⋅L⋅\\omega  - 1⎠⎠"
      ]
     },
     "metadata": {},
     "output_type": "display_data"
    }
   ],
   "source": [
    "display(phase)"
   ]
  },
  {
   "cell_type": "code",
   "execution_count": 140,
   "metadata": {
    "collapsed": false
   },
   "outputs": [],
   "source": [
    "N = 100\n",
    "#freq = np.zeros(2*N)\n",
    "#freq[:N] = -np.linspace(1e0, 1e10, N)#[::-1]\n",
    "#freq[N:] = np.linspace(1e0, 1e10, N)[::-1]\n",
    "freq = np.logspace(0, 8, N)\n",
    "T_amp = np.zeros_like(freq)\n",
    "T_pha = np.zeros_like(freq)\n",
    "results = np.zeros_like(freq, dtype=complex)\n",
    "\n",
    "substitutions = [(R, 1e3), (C, 1e-9), (L, 1e-6)]\n",
    "amplitude = amplitude.subs(substitutions)\n",
    "T = T.subs(substitutions)\n",
    "phase = phase.subs(substitutions)\n",
    "for (i,f) in enumerate(freq):\n",
    "    T_amp[i] = float(amplitude.evalf(subs={omega:f*2*np.pi}))\n",
    "    T_pha[i] = float(phase.evalf(subs={omega:f*2*np.pi}))\n",
    "    results[i] = T.evalf(subs={omega:f*2*np.pi})"
   ]
  },
  {
   "cell_type": "code",
   "execution_count": 141,
   "metadata": {
    "collapsed": false
   },
   "outputs": [
    {
     "data": {
      "image/png": "[encoded data removed]",
      "text/plain": [
       "<matplotlib.figure.Figure at 0x7f3e34403d30>"
      ]
     },
     "metadata": {},
     "output_type": "display_data"
    }
   ],
   "source": [
    "fig, (ax1, ax2) = plt.subplots(2, sharex=True)\n",
    "ax1.plot(freq, T_amp)\n",
    "ax1.set_ylabel(\"Funcion de transferencia\")\n",
    "ax1.set_xscale('log')\n",
    "ax1.grid()\n",
    "\n",
    "ax2.plot(freq, T_pha)\n",
    "ax2.set_ylabel('Fase')\n",
    "ax2.set_xlabel('Frequencia (Hz)')\n",
    "ax2.grid()"
   ]
  },
  {
   "cell_type": "code",
   "execution_count": 131,
   "metadata": {
    "collapsed": false
   },
   "outputs": [
    {
     "data": {
      "text/plain": [
       "[<matplotlib.lines.Line2D at 0x7f3e34b13668>]"
      ]
     },
     "execution_count": 131,
     "metadata": {},
     "output_type": "execute_result"
    },
    {
     "data": {
      "image/png": "[encoded data removed]",
      "text/plain": [
       "<matplotlib.figure.Figure at 0x7f3e343ead68>"
      ]
     },
     "metadata": {},
     "output_type": "display_data"
    }
   ],
   "source": [
    "temp = np.fft.ifft(results)\n",
    "plt.plot(np.imag(temp))"
   ]
  },
  {
   "cell_type": "code",
   "execution_count": null,
   "metadata": {
    "collapsed": true
   },
   "outputs": [],
   "source": []
  }
 ],
 "metadata": {
  "anaconda-cloud": {},
  "kernelspec": {
   "display_name": "Python [Root]",
   "language": "python",
   "name": "Python [Root]"
  },
  "language_info": {
   "codemirror_mode": {
    "name": "ipython",
    "version": 3
   },
   "file_extension": ".py",
   "mimetype": "text/x-python",
   "name": "python",
   "nbconvert_exporter": "python",
   "pygments_lexer": "ipython3",
   "version": "3.5.2"
  }
 },
 "nbformat": 4,
 "nbformat_minor": 0
}
