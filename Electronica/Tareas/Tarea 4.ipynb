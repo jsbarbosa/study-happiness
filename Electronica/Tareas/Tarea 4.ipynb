{
 "cells": [
  {
   "cell_type": "code",
   "execution_count": 5,
   "metadata": {
    "collapsed": true
   },
   "outputs": [],
   "source": [
    "import sympy as spy\n",
    "from IPython.display import display\n",
    "spy.init_printing()"
   ]
  },
  {
   "cell_type": "code",
   "execution_count": 18,
   "metadata": {
    "collapsed": false
   },
   "outputs": [
    {
     "data": {
      "image/png": "[encoded data removed]",
      "text/latex": [
       "$$-1.0$$"
      ],
      "text/plain": [
       "-1.00000000000000"
      ]
     },
     "metadata": {},
     "output_type": "display_data"
    },
    {
     "data": {
      "image/png": "[encoded data removed]",
      "text/latex": [
       "$$-3.0$$"
      ],
      "text/plain": [
       "-3.00000000000000"
      ]
     },
     "metadata": {},
     "output_type": "display_data"
    }
   ],
   "source": [
    "Vgs, Vt, Kn, Vds, Vf, Vc, Vb, Ve, Va = spy.symbols(\"V_{gs} V_T K_n V_{DS} V_F V_C V_B V_E V_A\", real = True)\n",
    "\n",
    "I1, I2, I3 = spy.symbols(\"I_1 I_2 I_3\", real = True)\n",
    "\n",
    "substitutions = [(Kn, 1e-3), (I1, 1e-3), (Vt, -2)]\n",
    "\n",
    "Vgs = -10 - Vf\n",
    "exp = Kn*(Vgs - Vt)**2\n",
    "\n",
    "Vf_sols = spy.solve(Id - I1, Vf)\n",
    "\n",
    "for sol in Vf_sols:\n",
    "    temp = sol.subs(substitutions)\n",
    "    temp = Vgs.subs([(Vf,temp)])\n",
    "    display(temp)"
   ]
  },
  {
   "cell_type": "code",
   "execution_count": 9,
   "metadata": {
    "collapsed": false
   },
   "outputs": [
    {
     "data": {
      "image/png": "[encoded data removed]",
      "text/latex": [
       "$$K_{n} \\left(- V_{F} - V_{T} - 10\\right)^{2}$$"
      ],
      "text/plain": [
       "                    2\n",
       "Kₙ⋅(-V_F - V_T - 10) "
      ]
     },
     "execution_count": 9,
     "metadata": {},
     "output_type": "execute_result"
    }
   ],
   "source": [
    "Id"
   ]
  },
  {
   "cell_type": "code",
   "execution_count": 15,
   "metadata": {
    "collapsed": false
   },
   "outputs": [
    {
     "data": {
      "image/png": "[encoded data removed]",
      "text/latex": [
       "$$4000.0$$"
      ],
      "text/plain": [
       "4000.0"
      ]
     },
     "execution_count": 15,
     "metadata": {},
     "output_type": "execute_result"
    }
   ],
   "source": [
    "(10-6)/(1e-3)"
   ]
  },
  {
   "cell_type": "code",
   "execution_count": 16,
   "metadata": {
    "collapsed": false
   },
   "outputs": [
    {
     "data": {
      "image/png": "[encoded data removed]",
      "text/latex": [
       "$$\\left [ - V_{T} - 10 - \\frac{\\sqrt{I_{1} K_{n}}}{K_{n}}, \\quad - V_{T} - 10 + \\frac{\\sqrt{I_{1} K_{n}}}{K_{n}}\\right ]$$"
      ],
      "text/plain": [
       "⎡              _______                _______⎤\n",
       "⎢            ╲╱ I₁⋅Kₙ               ╲╱ I₁⋅Kₙ ⎥\n",
       "⎢-V_T - 10 - ─────────, -V_T - 10 + ─────────⎥\n",
       "⎣                Kₙ                     Kₙ   ⎦"
      ]
     },
     "execution_count": 16,
     "metadata": {},
     "output_type": "execute_result"
    }
   ],
   "source": [
    "Vf_sols"
   ]
  },
  {
   "cell_type": "code",
   "execution_count": 20,
   "metadata": {
    "collapsed": false
   },
   "outputs": [
    {
     "data": {
      "image/png": "[encoded data removed]",
      "text/latex": [
       "$$\\left [ V_{A} - V_{T} - \\frac{\\sqrt{I_{1} K_{n}}}{K_{n}}, \\quad V_{A} - V_{T} + \\frac{\\sqrt{I_{1} K_{n}}}{K_{n}}\\right ]$$"
      ],
      "text/plain": [
       "⎡              _______                _______⎤\n",
       "⎢            ╲╱ I₁⋅Kₙ               ╲╱ I₁⋅Kₙ ⎥\n",
       "⎢V_A - V_T - ─────────, V_A - V_T + ─────────⎥\n",
       "⎣                Kₙ                     Kₙ   ⎦"
      ]
     },
     "execution_count": 20,
     "metadata": {},
     "output_type": "execute_result"
    }
   ],
   "source": [
    "spy.solve(Kn*(Va - Vb - Vt)**2 - I1, Vb)"
   ]
  },
  {
   "cell_type": "code",
   "execution_count": 21,
   "metadata": {
    "collapsed": false
   },
   "outputs": [
    {
     "data": {
      "image/png": "[encoded data removed]",
      "text/latex": [
       "$$\\left [ - V_{T} - 10 - \\frac{\\sqrt{I_{2} K_{n}}}{K_{n}}, \\quad - V_{T} - 10 + \\frac{\\sqrt{I_{2} K_{n}}}{K_{n}}\\right ]$$"
      ],
      "text/plain": [
       "⎡              _______                _______⎤\n",
       "⎢            ╲╱ I₂⋅Kₙ               ╲╱ I₂⋅Kₙ ⎥\n",
       "⎢-V_T - 10 - ─────────, -V_T - 10 + ─────────⎥\n",
       "⎣                Kₙ                     Kₙ   ⎦"
      ]
     },
     "execution_count": 21,
     "metadata": {},
     "output_type": "execute_result"
    }
   ],
   "source": [
    "spy.solve(Kn*(-10 - Vf - Vt)**2 - I2, Vf)"
   ]
  },
  {
   "cell_type": "code",
   "execution_count": null,
   "metadata": {
    "collapsed": true
   },
   "outputs": [],
   "source": []
  }
 ],
 "metadata": {
  "anaconda-cloud": {},
  "kernelspec": {
   "display_name": "Python [Root]",
   "language": "python",
   "name": "Python [Root]"
  },
  "language_info": {
   "codemirror_mode": {
    "name": "ipython",
    "version": 3
   },
   "file_extension": ".py",
   "mimetype": "text/x-python",
   "name": "python",
   "nbconvert_exporter": "python",
   "pygments_lexer": "ipython3",
   "version": "3.5.2"
  }
 },
 "nbformat": 4,
 "nbformat_minor": 0
}
