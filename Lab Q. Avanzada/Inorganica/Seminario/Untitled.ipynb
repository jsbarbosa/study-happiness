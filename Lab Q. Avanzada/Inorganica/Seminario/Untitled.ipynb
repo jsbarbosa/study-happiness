{
 "cells": [
  {
   "cell_type": "code",
   "execution_count": 1,
   "metadata": {
    "collapsed": false
   },
   "outputs": [
    {
     "name": "stdout",
     "output_type": "stream",
     "text": [
      "Using matplotlib backend: Qt5Agg\n"
     ]
    }
   ],
   "source": [
    "import numpy as np\n",
    "import matplotlib.pyplot as plt\n",
    "import xml.etree.ElementTree as ET\n",
    "from mpl_toolkits.mplot3d import axes3d\n",
    "from matplotlib.animation import FuncAnimation\n",
    "%matplotlib"
   ]
  },
  {
   "cell_type": "code",
   "execution_count": 2,
   "metadata": {
    "collapsed": false
   },
   "outputs": [],
   "source": [
    "tree = ET.parse('BINAPcomplex_(1).mrv')\n",
    "root = tree.getroot()[1][0][0]\n",
    "atoms_ = root[0]\n",
    "bonds_ = root[1]\n",
    "N_atoms = 0\n",
    "for item in atoms_:\n",
    "    N_atoms += 1\n",
    "N_bonds = 0\n",
    "for item in bonds_:\n",
    "    N_bonds += 1"
   ]
  },
  {
   "cell_type": "code",
   "execution_count": 3,
   "metadata": {
    "collapsed": false
   },
   "outputs": [],
   "source": [
    "atoms = {}\n",
    "bonds = {}\n",
    "for i in range(N_atoms):\n",
    "    attrib = atoms_[i].attrib\n",
    "    iden = attrib[\"id\"]\n",
    "    atoms[iden] = attrib\n",
    "for i in range(N_bonds):\n",
    "    attrib = bonds_[i].attrib\n",
    "    iden = attrib[\"id\"]\n",
    "    bonds[iden] = attrib"
   ]
  },
  {
   "cell_type": "code",
   "execution_count": 4,
   "metadata": {
    "collapsed": false
   },
   "outputs": [],
   "source": [
    "bond_values = []\n",
    "for (i, bond) in enumerate(bonds):\n",
    "    bond = bonds[bond]\n",
    "    ref = bond['atomRefs2']\n",
    "    a1, a2 = ref.split(' ')\n",
    "    a1 = atoms[a1]\n",
    "    a2 = atoms[a2]\n",
    "    x = [float(a1['x3']), float(a2['x3'])]\n",
    "    y = [float(a1['y3']), float(a2['y3'])]\n",
    "    z = [float(a1['z3']), float(a2['z3'])]\n",
    "    bond_values.append([x, y, z])"
   ]
  },
  {
   "cell_type": "code",
   "execution_count": 5,
   "metadata": {
    "collapsed": false
   },
   "outputs": [],
   "source": [
    "fig, ax = plt.subplots(subplot_kw=dict(projection='3d'))\n",
    "\n",
    "colors = {\"C\": \"black\", \"P\": \"sandybrown\", \"Cl\": \"green\", \"O\": \"red\", \"Ru\": \"cyan\", \"R\": \"black\", \"H\": \"grey\"}\n",
    "sizes = {\"C\": 67, \"P\": 98, \"Cl\": 79, \"O\": 48, \"Ru\": 178, \"R\": 100, \"H\": 53}\n",
    "for bond in bond_values:\n",
    "    ax.plot(bond[0], bond[1], bond[2], color=\"k\")\n",
    "    \n",
    "for atom in atoms:\n",
    "    atom = atoms[atom]\n",
    "    element = atom[\"elementType\"]\n",
    "    color = colors[element]\n",
    "    size = sizes[element]/10\n",
    "    x, y, z = float(atom['x3']), float(atom['y3']), float(atom['z3'])\n",
    "    ax.plot([x], [y], [z], \"o\", ms = size, color = color)"
   ]
  },
  {
   "cell_type": "code",
   "execution_count": 7,
   "metadata": {
    "collapsed": true
   },
   "outputs": [],
   "source": [
    "def update(i):\n",
    "    angle = frames*i/360\n",
    "    ax.view_init(30, angle)\n",
    "    print(angle)\n",
    "    \n",
    "frames = 15\n",
    "ani = FuncAnimation(fig, update, frames=np.arange(frames))\n",
    "fig.show()"
   ]
  },
  {
   "cell_type": "code",
   "execution_count": null,
   "metadata": {
    "collapsed": true
   },
   "outputs": [],
   "source": []
  }
 ],
 "metadata": {
  "anaconda-cloud": {},
  "kernelspec": {
   "display_name": "Python [conda root]",
   "language": "python",
   "name": "conda-root-py"
  },
  "language_info": {
   "codemirror_mode": {
    "name": "ipython",
    "version": 3
   },
   "file_extension": ".py",
   "mimetype": "text/x-python",
   "name": "python",
   "nbconvert_exporter": "python",
   "pygments_lexer": "ipython3",
   "version": "3.4.4"
  }
 },
 "nbformat": 4,
 "nbformat_minor": 2
}
