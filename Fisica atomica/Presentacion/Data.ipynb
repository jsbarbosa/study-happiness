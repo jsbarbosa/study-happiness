{
 "cells": [
  {
   "cell_type": "code",
   "execution_count": 1,
   "metadata": {
    "collapsed": false
   },
   "outputs": [
    {
     "name": "stdout",
     "output_type": "stream",
     "text": [
      "Using matplotlib backend: Qt5Agg\n"
     ]
    }
   ],
   "source": [
    "import numpy as np\n",
    "from glob import glob\n",
    "import matplotlib.pyplot as plt\n",
    "from mpl_toolkits.axes_grid1 import make_axes_locatable\n",
    "from astropy.io import fits\n",
    "%matplotlib"
   ]
  },
  {
   "cell_type": "code",
   "execution_count": 2,
   "metadata": {
    "collapsed": false
   },
   "outputs": [],
   "source": [
    "CURRENT_PE = {6: [5.96, 6.33, 6.32, 6.30, 6.27],\n",
    "             5: [4.98, 4.97, 4.95, 4.96],\n",
    "             4: [3.99, 3.98, 4.0],\n",
    "             3: [2.99, 2.97, 2.98]}\n",
    "CURRENT_PA = {6: [5.84, 6.18, 6.17, 6.16, 6.15, 6.13],\n",
    "             5: [4.88, 4.93, 4.94, 4.95],\n",
    "             4: [3.97, 3.98, 3.99],\n",
    "             3: [2.96, 2.97, 2.98, 2.96, 2.97]}"
   ]
  },
  {
   "cell_type": "code",
   "execution_count": 3,
   "metadata": {
    "collapsed": true
   },
   "outputs": [],
   "source": [
    "class Spectrum:\n",
    "    global CURRENT_PA, CURRENT_PE\n",
    "    def __init__(self, name, element = \"Neon\", directory = \"raw/\"):\n",
    "        \n",
    "        self.name = name\n",
    "        if directory in name:\n",
    "            self.name = name[len(directory):]          \n",
    "        self.element = element\n",
    "        if \"calibracion\" in name:\n",
    "            self.element = \"Calibration\"\n",
    "        self.current = 0\n",
    "        self.time = 15\n",
    "        self.data = fits.getdata(\"%s%s\"%(directory, self.name))\n",
    "        self.get_current()\n",
    "        self.normalize()\n",
    "        \n",
    "    def get_current(self):\n",
    "        try:\n",
    "            intensity = int(self.name[2])\n",
    "        except:\n",
    "            pass\n",
    "        if \"pa\" in self.name:\n",
    "            data = CURRENT_PA[intensity]\n",
    "            mean = np.array(data).mean()\n",
    "            self.current = mean\n",
    "            self.type = \"Parallel\"\n",
    "        elif 'pe' in self.name:\n",
    "            data = CURRENT_PE[intensity]\n",
    "            mean = np.array(data).mean()\n",
    "            self.current = mean\n",
    "            self.type = \"Perpendicular\"\n",
    "        else:\n",
    "            self.type = None\n",
    "            \n",
    "    def normalize(self):\n",
    "        mean = np.mean(self.data)\n",
    "        min_ = np.min(self.data)\n",
    "        thresh = mean + min_\n",
    "        pos = np.where(self.data > thresh)\n",
    "        self.data[pos] = thresh\n",
    "        self.data = (self.data - min_)/(thresh - min_)\n",
    "        \n",
    "    def make_slice(self, ys, xs):\n",
    "        if ys == None:\n",
    "            return self.data\n",
    "        center, width = ys\n",
    "        half = int(width/2)\n",
    "        data = self.data[center-half:center+half]\n",
    "        if xs == None:\n",
    "            return data\n",
    "        xlow, xhigh = xs\n",
    "        return data[:, xlow:xhigh]\n",
    "            \n",
    "        \n",
    "    def plot(self, ys, xs):\n",
    "        fig, (ax1, ax2) = plt.subplots(2, sharex=True)\n",
    "        data = self.make_slice(ys, xs)\n",
    "        complete = np.sum(data, axis=0)\n",
    "#        integral = np.trapz(complete)\n",
    "        integral = complete#/integral\n",
    "        ax1.imshow(self.data, cmap='gray')\n",
    "        ax1.axis('off')\n",
    "        if xs == None:\n",
    "            ax2.plot(integral)\n",
    "            ax2.set_xlim(0, data.shape[1])\n",
    "        if xs != None:\n",
    "            ax2.plot(np.arange(xs[0], xs[1]), integral)\n",
    "            ax2.set_xlim(xs[0], xs[1])\n",
    "        fig.subplots_adjust(hspace=0)\n",
    "        title = self.element\n",
    "        if self.element != \"Calibration\":\n",
    "            if self.type != None:\n",
    "                title = r\"%s %s $I\\approx %.2f$A\"%(self.element, self.type, self.current)\n",
    "            else:\n",
    "                title = r\"%s with out $\\vec{B}$\"%(self.element)\n",
    "        ax1.set_title(title)\n",
    "        return fig"
   ]
  },
  {
   "cell_type": "code",
   "execution_count": 4,
   "metadata": {
    "collapsed": false
   },
   "outputs": [],
   "source": [
    "calibration = Spectrum('raw/calibracion.FIT')\n",
    "fig = calibration.plot((540, 10), None)\n",
    "fig.savefig(\"Calibration.png\")\n",
    "plt.close()"
   ]
  },
  {
   "cell_type": "code",
   "execution_count": 5,
   "metadata": {
    "collapsed": false
   },
   "outputs": [],
   "source": [
    "files = glob('raw/*.FIT')\n",
    "for i in range(len(files)):\n",
    "    if \"calibracion\" in files[i]:\n",
    "        del files[i]\n",
    "        break"
   ]
  },
  {
   "cell_type": "code",
   "execution_count": 6,
   "metadata": {
    "collapsed": false
   },
   "outputs": [],
   "source": [
    "spectrums = [Spectrum(item) for item in files]\n",
    "for spectrum in spectrums:\n",
    "    fig = spectrum.plot((244, 14), (350, 440))\n",
    "    fig.savefig(\"%s.png\"%spectrum.name)\n",
    "    plt.close()"
   ]
  }
 ],
 "metadata": {
  "anaconda-cloud": {},
  "kernelspec": {
   "display_name": "Python [conda root]",
   "language": "python",
   "name": "conda-root-py"
  },
  "language_info": {
   "codemirror_mode": {
    "name": "ipython",
    "version": 3
   },
   "file_extension": ".py",
   "mimetype": "text/x-python",
   "name": "python",
   "nbconvert_exporter": "python",
   "pygments_lexer": "ipython3",
   "version": "3.4.4"
  }
 },
 "nbformat": 4,
 "nbformat_minor": 2
}
