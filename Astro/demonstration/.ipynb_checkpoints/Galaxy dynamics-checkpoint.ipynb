{
 "cells": [
  {
   "cell_type": "markdown",
   "metadata": {},
   "source": [
    "<div>\n",
    "     <center>\n",
    "     <h1> Galaxy dynamics </h1>\n",
    "     <br>\n",
    "     by <a href=\"http://github.com/ComputoCienciasUniandes\"> ComputoCienciasUniandes </a>\n",
    "     <br>\n",
    "     <a href = \"https://github.com/jsbarbosa\"> Juan Barbosa </a>\n",
    "     </center>\n",
    "</div>\n",
    "<hr style=\"height:5px\">"
   ]
  },
  {
   "cell_type": "markdown",
   "metadata": {},
   "source": [
    "# Librerías"
   ]
  },
  {
   "cell_type": "code",
   "execution_count": 1,
   "metadata": {
    "collapsed": true
   },
   "outputs": [],
   "source": [
    "import numpy as np\n",
    "import matplotlib.pyplot as plt"
   ]
  },
  {
   "cell_type": "markdown",
   "metadata": {},
   "source": [
    "# Sistema\n",
    "### El problema de $N$ cuerpos\n",
    "Para tres o más cuerpos que interactúan entre sí gravitacionalmente, resulta imposible la predicción analítica de los movimientos de forma indiviual. Lo anterior supone una gran oportunidad para los métodos numéricos, en donde el problema estará restringido a la capacidad de cómputo disponible. En ese sentido para un sistema de $N$ cuerpos es necesario iterar $\\frac{1}{2}N(N-1)$ veces para obtener la totalidad de fuerzas actuando sobre cada cuerpo."
   ]
  },
  {
   "cell_type": "code",
   "execution_count": null,
   "metadata": {
    "collapsed": true
   },
   "outputs": [],
   "source": []
  }
 ],
 "metadata": {
  "anaconda-cloud": {},
  "kernelspec": {
   "display_name": "Python [conda root]",
   "language": "python",
   "name": "conda-root-py"
  },
  "language_info": {
   "codemirror_mode": {
    "name": "ipython",
    "version": 3
   },
   "file_extension": ".py",
   "mimetype": "text/x-python",
   "name": "python",
   "nbconvert_exporter": "python",
   "pygments_lexer": "ipython3",
   "version": "3.4.4"
  }
 },
 "nbformat": 4,
 "nbformat_minor": 2
}
