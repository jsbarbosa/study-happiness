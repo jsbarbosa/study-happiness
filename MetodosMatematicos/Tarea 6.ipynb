{
 "cells": [
  {
   "cell_type": "code",
   "execution_count": 88,
   "metadata": {
    "collapsed": false
   },
   "outputs": [
    {
     "name": "stdout",
     "output_type": "stream",
     "text": [
      "Using matplotlib backend: Qt4Agg\n"
     ]
    }
   ],
   "source": [
    "import numpy as np\n",
    "import matplotlib.pyplot as plt\n",
    "from matplotlib.animation import FuncAnimation\n",
    "%matplotlib"
   ]
  },
  {
   "cell_type": "code",
   "execution_count": 81,
   "metadata": {
    "collapsed": false
   },
   "outputs": [],
   "source": [
    "fig, ax = plt.subplots()\n",
    "lines = ax.plot([], [])[0]\n",
    "text = ax.text(0.8, 450, \"\")\n",
    "plt.xlim(0, 1)\n",
    "plt.ylim(0, 500)\n",
    "plt.ylabel(\"$T (^\\circ C)$\")\n",
    "plt.xlabel(\"$x (cm)$\")\n",
    "plt.grid()\n",
    "\n",
    "t = np.linspace(0, 1, 100)\n",
    "xs = np.linspace(0, 1)\n",
    "m = np.arange(1, 2000)\n",
    "values = np.zeros_like(xs)\n",
    "\n",
    "def u(j):\n",
    "    for (i, x) in enumerate(xs):\n",
    "        exp = np.exp(-t[j]*(m*np.pi)**2)\n",
    "        temp = np.sin(m*np.pi*0.5)*np.sin(m*np.pi*x)\n",
    "        temp = 1000*np.sum(temp*exp)\n",
    "        values[i] = temp\n",
    "#    lines.set_data(xs, values)\n",
    "#    text.set_text(\"$t = %.2f s$\"%t[j])\n",
    "    return values\n",
    "\n",
    "#anim = FuncAnimation(fig, u, frames=np.arange(100), interval = 100)\n",
    "#plt.show()"
   ]
  },
  {
   "cell_type": "code",
   "execution_count": 87,
   "metadata": {
    "collapsed": false
   },
   "outputs": [],
   "source": [
    "fig, axes = plt.subplots(2,3, figsize=(10,4))\n",
    "axes = axes.reshape(6)\n",
    "\n",
    "for (i, ax) in enumerate(axes):    \n",
    "    ax.set_xlim(0, 1)\n",
    "    ax.set_ylim(0, 500)\n",
    "    ax.set_ylabel(\"$T (^\\circ C)$\")\n",
    "    ax.set_xlabel(\"$x (m)$\")\n",
    "    ax.grid()\n",
    "    pos = int(100*i/6)\n",
    "    ax.plot(xs, u(pos))\n",
    "    ax.text(0.75, 450, \"$t = %.2f s$\"%t[pos])\n",
    "plt.tight_layout()\n",
    "fig.savefig(\"plots.pdf\")"
   ]
  },
  {
   "cell_type": "code",
   "execution_count": 109,
   "metadata": {
    "collapsed": false
   },
   "outputs": [
    {
     "name": "stderr",
     "output_type": "stream",
     "text": [
      "/home/juan/anaconda3/lib/python3.5/site-packages/ipykernel/__main__.py:5: RuntimeWarning: overflow encountered in multiply\n"
     ]
    }
   ],
   "source": [
    "import numpy as np\n",
    "import matplotlib.pyplot as plt\n",
    "from scipy.special import gamma, jn_zeros\n",
    "\n",
    "def j(x, a):\n",
    "    m = np.arange(100)\n",
    "    coeff = (-1)**m/(gamma(m+1)*gamma(m + a + 1))*(x/2)**(2*m+a)\n",
    "    value = np.sum(coeff)\n",
    "    return value\n",
    "\n",
    "xs = np.linspace(0, 20, 100)\n",
    "ys = np.zeros_like(xs)\n",
    "\n",
    "for a in range(3):\n",
    "    for i in range(len(xs)):\n",
    "        ys[i] = j(xs[i], a)\n",
    "    plot = plt.plot(xs, ys, label=r\"$\\alpha = %d$\"%a)[0]\n",
    "    plt.plot(jn_zeros(a, 5), np.zeros(5), \"o\", color = plot.get_color())\n",
    "plt.xlabel(\"$x$\")\n",
    "plt.ylabel(r\"$J_\\alpha(x)$\")\n",
    "plt.legend()\n",
    "plt.grid()\n",
    "plt.savefig(\"Bessel.pdf\")"
   ]
  },
  {
   "cell_type": "code",
   "execution_count": null,
   "metadata": {
    "collapsed": true
   },
   "outputs": [],
   "source": []
  }
 ],
 "metadata": {
  "anaconda-cloud": {},
  "kernelspec": {
   "display_name": "Python [Root]",
   "language": "python",
   "name": "Python [Root]"
  },
  "language_info": {
   "codemirror_mode": {
    "name": "ipython",
    "version": 3
   },
   "file_extension": ".py",
   "mimetype": "text/x-python",
   "name": "python",
   "nbconvert_exporter": "python",
   "pygments_lexer": "ipython3",
   "version": "3.5.2"
  }
 },
 "nbformat": 4,
 "nbformat_minor": 0
}
