{
 "cells": [
  {
   "cell_type": "code",
   "execution_count": 1,
   "metadata": {
    "collapsed": true
   },
   "outputs": [],
   "source": [
    "import numpy as np\n",
    "import sympy as spy\n",
    "import matplotlib.pyplot as plt\n",
    "from IPython.display import display\n",
    "from scipy.interpolate import interp1d\n",
    "%matplotlib inline\n",
    "\n",
    "spy.init_printing()"
   ]
  },
  {
   "cell_type": "markdown",
   "metadata": {},
   "source": [
    "# Punto 1"
   ]
  },
  {
   "cell_type": "code",
   "execution_count": 2,
   "metadata": {
    "collapsed": false
   },
   "outputs": [
    {
     "data": {
      "image/png": "[encoded data removed]",
      "text/latex": [
       "$$\\frac{R_{1} R_{2} V_{out_2} + R_{1} V_{out} Z_{C_3} + R_{2} V_{in} Z_{C_3}}{R_{1} R_{2} + R_{1} Z_{C_3} + R_{2} Z_{C_3}}$$"
      ],
      "text/plain": [
       "R₁⋅R₂⋅V_{out_2} + R₁⋅V_{out}⋅Z_{C_3} + R₂⋅V_{in}⋅Z_{C_3}\n",
       "────────────────────────────────────────────────────────\n",
       "            R₁⋅R₂ + R₁⋅Z_{C_3} + R₂⋅Z_{C_3}             "
      ]
     },
     "metadata": {},
     "output_type": "display_data"
    },
    {
     "name": "stdout",
     "output_type": "stream",
     "text": [
      "V_B = \\frac{R_{1} R_{2} V_{out_2} + R_{1} V_{out} Z_{C_3} + R_{2} V_{in} Z_{C_3}}{R_{1} R_{2} + R_{1} Z_{C_3} + R_{2} Z_{C_3}}\n"
     ]
    },
    {
     "data": {
      "image/png": "[encoded data removed]",
      "text/latex": [
       "$$\\frac{- R_{3} V_{in} Z_{C_2} + R_{3} V_{out} Z_{C_1} + V_{out_2} Z_{C_1} Z_{C_2}}{R_{3} Z_{C_1} - R_{3} Z_{C_2} + Z_{C_1} Z_{C_2}}$$"
      ],
      "text/plain": [
       "-R₃⋅V_{in}⋅Z_{C_2} + R₃⋅V_{out}⋅Z_{C_1} + V_{out_2}⋅Z_{C_1}⋅Z_{C_2}\n",
       "───────────────────────────────────────────────────────────────────\n",
       "             R₃⋅Z_{C_1} - R₃⋅Z_{C_2} + Z_{C_1}⋅Z_{C_2}             "
      ]
     },
     "metadata": {},
     "output_type": "display_data"
    },
    {
     "name": "stdout",
     "output_type": "stream",
     "text": [
      "V_D = \\frac{- R_{3} V_{in} Z_{C_2} + R_{3} V_{out} Z_{C_1} + V_{out_2} Z_{C_1} Z_{C_2}}{R_{3} Z_{C_1} - R_{3} Z_{C_2} + Z_{C_1} Z_{C_2}}\n"
     ]
    },
    {
     "data": {
      "image/png": "[encoded data removed]",
      "text/latex": [
       "$$\\frac{V_{in} \\left(4 R_{3}^{3} R_{4} + 4 R_{3}^{3} R_{5} + 4 R_{3}^{2} R_{4} Z_{C_3} + 4 R_{3}^{2} R_{5} Z_{C_3} - 4 R_{4} Z_{C_3}^{3} - 4 R_{5} Z_{C_3}^{3}\\right)}{4 R_{3}^{3} R_{4} + 4 R_{3}^{3} R_{5} - 4 R_{3}^{2} R_{4} Z_{C_3} + 4 R_{3}^{2} R_{5} Z_{C_3} - 16 R_{3} R_{4} Z_{C_3}^{2} - 4 R_{4} Z_{C_3}^{3} - 4 R_{5} Z_{C_3}^{3}}$$"
      ],
      "text/plain": [
       "             ⎛    3          3          2                  2                  \n",
       "      V_{in}⋅⎝4⋅R₃ ⋅R₄ + 4⋅R₃ ⋅R₅ + 4⋅R₃ ⋅R₄⋅Z_{C_3} + 4⋅R₃ ⋅R₅⋅Z_{C_3} - 4⋅R₄\n",
       "──────────────────────────────────────────────────────────────────────────────\n",
       "    3          3          2                  2                              2 \n",
       "4⋅R₃ ⋅R₄ + 4⋅R₃ ⋅R₅ - 4⋅R₃ ⋅R₄⋅Z_{C_3} + 4⋅R₃ ⋅R₅⋅Z_{C_3} - 16⋅R₃⋅R₄⋅Z_{C_3}  \n",
       "\n",
       "        3               3⎞     \n",
       "⋅Z_{C_3}  - 4⋅R₅⋅Z_{C_3} ⎠     \n",
       "───────────────────────────────\n",
       "              3               3\n",
       "- 4⋅R₄⋅Z_{C_3}  - 4⋅R₅⋅Z_{C_3} "
      ]
     },
     "metadata": {},
     "output_type": "display_data"
    },
    {
     "name": "stdout",
     "output_type": "stream",
     "text": [
      "V_{out} = V_{in}*(4*R_3**3*R_4 + 4*R_3**3*R_5 + 4*R_3**2*R_4*Z_{C_3} + 4*R_3**2*R_5*Z_{C_3} - 4*R_4*Z_{C_3}**3 - 4*R_5*Z_{C_3}**3)/(4*R_3**3*R_4 + 4*R_3**3*R_5 - 4*R_3**2*R_4*Z_{C_3} + 4*R_3**2*R_5*Z_{C_3} - 16*R_3*R_4*Z_{C_3}**2 - 4*R_4*Z_{C_3}**3 - 4*R_5*Z_{C_3}**3)\n"
     ]
    },
    {
     "data": {
      "image/png": "[encoded data removed]",
      "text/latex": [
       "$$- \\frac{V_{in} \\left(R_{4} + R_{5}\\right) \\left(- 4 C_{3}^{3} R_{3}^{3} \\omega^{3} + 4.0 i C_{3}^{2} R_{3}^{2} \\omega^{2} + 4.0 i\\right)}{4 C_{3}^{3} R_{3}^{3} \\omega^{3} \\left(R_{4} + R_{5}\\right) + 4.0 i C_{3}^{2} R_{3}^{2} \\omega^{2} \\left(R_{4} - R_{5}\\right) + 16.0 C_{3} R_{3} R_{4} \\omega - 4.0 i \\left(R_{4} + R_{5}\\right)}$$"
      ],
      "text/plain": [
       "                                 ⎛      3   3       3           2   2       2 \n",
       "               -V_{in}⋅(R₄ + R₅)⋅⎝- 4⋅C₃ ⋅R₃ ⋅\\omega  + 4.0⋅ⅈ⋅C₃ ⋅R₃ ⋅\\omega  \n",
       "──────────────────────────────────────────────────────────────────────────────\n",
       "    3   3       3                     2   2       2                           \n",
       "4⋅C₃ ⋅R₃ ⋅\\omega ⋅(R₄ + R₅) + 4.0⋅ⅈ⋅C₃ ⋅R₃ ⋅\\omega ⋅(R₄ - R₅) + 16.0⋅C₃⋅R₃⋅R₄⋅\n",
       "\n",
       "       ⎞                \n",
       "+ 4.0⋅ⅈ⎠                \n",
       "────────────────────────\n",
       "                        \n",
       "\\omega - 4.0⋅ⅈ⋅(R₄ + R₅)"
      ]
     },
     "metadata": {},
     "output_type": "display_data"
    },
    {
     "name": "stdout",
     "output_type": "stream",
     "text": [
      "V_{out} = -V_{in}*(R_4 + R_5)*(-4*C_3**3*R_3**3*\\omega**3 + 4.0*I*C_3**2*R_3**2*\\omega**2 + 4.0*I)/(4*C_3**3*R_3**3*\\omega**3*(R_4 + R_5) + 4.0*I*C_3**2*R_3**2*\\omega**2*(R_4 - R_5) + 16.0*C_3*R_3*R_4*\\omega - 4.0*I*(R_4 + R_5))\n"
     ]
    }
   ],
   "source": [
    "V_in, V_out, R1, R2, R3, R4, R5, C1, C2, C3 = spy.symbols('V_{in} V_{out} R_1 R_2 R_3 R_4 R_5 C_1 C_2 C_3'\n",
    "                                                          , real = True, positives = True)\n",
    "V_B, V_D, V_out2, omega = spy.symbols('V_B V_D V_{out_2} \\omega', real=True, positives=True)\n",
    "Z_C1, Z_C2, Z_C3 = spy.symbols('Z_{C_1} Z_{C_2} Z_{C_3}')\n",
    "\n",
    "I1 = (V_in-V_B)/R1\n",
    "I2 = (V_B-V_out)/R2\n",
    "I3 = (V_B-V_out2)/Z_C3\n",
    "\n",
    "V_B = spy.solve(I2+I3-I1, V_B)[0]\n",
    "display(V_B)\n",
    "print('V_B =', spy.latex(V_B))\n",
    "\n",
    "I6 = (V_in - V_D)/Z_C1\n",
    "I5 = (V_out2 - V_D)/R3\n",
    "I2 = (V_out - V_D)/Z_C2\n",
    "\n",
    "V_D = spy.solve(I2+I5-I6, V_D)[0]\n",
    "display(V_D)\n",
    "print('V_D =', spy.latex(V_D))\n",
    "\n",
    "exp = ((V_B - V_out)/R2 - (V_out-V_D)/Z_C2).subs([(V_out2, V_out*R5/(R4+R5))])\n",
    "V_out = spy.solve(exp, V_out)[0]\n",
    "\n",
    "substitutions = [(R1, 2*R3), (R2, 2*R3), (Z_C1, 2*Z_C3), (Z_C2, 2*Z_C3)]\n",
    "V_out = V_out.subs(substitutions)\n",
    "display(V_out)\n",
    "print('V_{out} =', V_out)\n",
    "\n",
    "substitutions = [(Z_C3, 1/(1j*omega*C3))]\n",
    "V_out = V_out.subs(substitutions).simplify()\n",
    "display(V_out)\n",
    "print('V_{out} =', V_out)"
   ]
  },
  {
   "cell_type": "code",
   "execution_count": 3,
   "metadata": {
    "collapsed": false
   },
   "outputs": [
    {
     "data": {
      "image/png": "[encoded data removed]",
      "text/latex": [
       "$$\\frac{0.0039366 \\omega^{3} - 1.458 i \\omega^{2} - 200000.0 i}{0.0039366 \\omega^{3} - 0.2916 i \\omega^{2} + 864.0 \\omega - 200000.0 i}$$"
      ],
      "text/plain": [
       "                        3                 2                     \n",
       "        0.0039366⋅\\omega  - 1.458⋅ⅈ⋅\\omega  - 200000.0⋅ⅈ        \n",
       "────────────────────────────────────────────────────────────────\n",
       "                3                  2                            \n",
       "0.0039366⋅\\omega  - 0.2916⋅ⅈ⋅\\omega  + 864.0⋅\\omega - 200000.0⋅ⅈ"
      ]
     },
     "metadata": {},
     "output_type": "display_data"
    },
    {
     "name": "stdout",
     "output_type": "stream",
     "text": [
      "V_{out} = (0.0039366*\\omega**3 - 1.458*I*\\omega**2 - 200000.0*I)/(0.0039366*\\omega**3 - 0.2916*I*\\omega**2 + 864.0*\\omega - 200000.0*I)\n"
     ]
    }
   ],
   "source": [
    "R_3 = 5e6\n",
    "R_4 = 20e3\n",
    "R_5 = 30e3\n",
    "C_3 = 540e-12\n",
    "Vin = 1\n",
    "substitutions = [(R3, R_3), (R4, R_4), (R5, R_5), (C3, C_3), (V_in, Vin)]\n",
    "\n",
    "V_out = V_out.subs(substitutions).simplify()\n",
    "display(V_out)\n",
    "print('V_{out} =', V_out)"
   ]
  },
  {
   "cell_type": "code",
   "execution_count": 4,
   "metadata": {
    "collapsed": false
   },
   "outputs": [],
   "source": [
    "N = 100\n",
    "freq = np.logspace(0, 6, N)*2*np.pi\n",
    "outs = np.zeros((N, 2))\n",
    "\n",
    "for (i, f) in enumerate(freq):\n",
    "    out = V_out.evalf(subs={omega:f})\n",
    "    \n",
    "    outs[i, 0] = abs(out)\n",
    "    outs[i, 1] = float(spy.atan(spy.im(out)/spy.re(out)))"
   ]
  },
  {
   "cell_type": "code",
   "execution_count": 5,
   "metadata": {
    "collapsed": false
   },
   "outputs": [
    {
     "data": {
      "image/png": "[encoded data removed]",
      "text/plain": [
       "<matplotlib.figure.Figure at 0x7f18f65516d8>"
      ]
     },
     "metadata": {},
     "output_type": "display_data"
    }
   ],
   "source": [
    "fig, axes = plt.subplots(2, sharex=True)\n",
    "freq *= 1/(2*np.pi)\n",
    "for i in range(2):\n",
    "    axes[i].plot(freq, outs[:,i])\n",
    "    axes[i].grid()\n",
    "    axes[i].set_xscale('log')\n",
    "    \n",
    "    down, up = axes[i].get_ylim()\n",
    "    axes[i].set_ylim(down, up+(up-down)*0.1)\n",
    "\n",
    "axes[0].set_ylabel('$V_{out}/V_{in}$')\n",
    "axes[1].set_ylabel('Phase (rad)')\n",
    "axes[1].set_xlabel('Frequency (Hz)')\n",
    "plt.show()"
   ]
  },
  {
   "cell_type": "code",
   "execution_count": 11,
   "metadata": {
    "collapsed": false
   },
   "outputs": [],
   "source": [
    "amplitude = outs[:,0]\n",
    "derivative = np.diff(amplitude)\n",
    "min_pos = derivative.argsort()\n",
    "min_pos, max_pos = min_pos[0], min_pos[-1]\n",
    "\n",
    "f = interp1d(derivative[min_pos:max_pos], freq[min_pos:max_pos])\n",
    "freq_min = f(0)\n",
    "#min_pos = amplitude.argmin()\n",
    "#look_for = 1-(1-amplitude[min_pos])/np.sqrt(2)\n",
    "#value = abs(amplitude[min_pos:]-look_for).argmin()+min_pos\n",
    "#amp_value, freq_value = amplitude[value], freq[value]"
   ]
  },
  {
   "cell_type": "code",
   "execution_count": 13,
   "metadata": {
    "collapsed": false
   },
   "outputs": [
    {
     "data": {
      "image/png": "[encoded data removed]",
      "text/plain": [
       "<matplotlib.figure.Figure at 0x7f18f60a9668>"
      ]
     },
     "metadata": {},
     "output_type": "display_data"
    }
   ],
   "source": [
    "f = interp1d(freq, amplitude)\n",
    "min_intensity = f(freq_min)\n",
    "look_for = 1-(1-min_intensity)/np.sqrt(2)\n",
    "pos = amplitude.argmin()\n",
    "\n",
    "freq_left = freq[:pos]\n",
    "freq_right = freq[pos:]\n",
    "\n",
    "f_left = interp1d(amplitude[:pos], freq_left)\n",
    "f_right = interp1d(amplitude[pos:], freq_right)\n",
    "\n",
    "f_left = f_left(look_for)\n",
    "f_right = f_right(look_for)\n",
    "\n",
    "BW = f_right - f_left\n",
    "Q = freq_min/BW\n",
    "plt.plot(freq, amplitude, 'o',alpha=0.3)\n",
    "plt.plot((f_left, f_right), (look_for, look_for), '-o', label='cut-off frequencies')\n",
    "plt.plot(freq_min, min_intensity, 'o', label='center frequency')\n",
    "plt.xscale('log')\n",
    "plt.xlabel('Frequency (Hz)')\n",
    "plt.ylabel('$V_{out}/V_{in}$')\n",
    "plt.legend()\n",
    "plt.grid()"
   ]
  },
  {
   "cell_type": "code",
   "execution_count": 14,
   "metadata": {
    "collapsed": false
   },
   "outputs": [
    {
     "data": {
      "text/plain": [
       "(array(40.39636489811825),\n",
       " array(124.02422000234633),\n",
       " array(65.34924491890806),\n",
       " 83.627855104228075,\n",
       " 0.78142916421162778)"
      ]
     },
     "execution_count": 14,
     "metadata": {},
     "output_type": "execute_result"
    }
   ],
   "source": [
    "f_left, f_right, freq_min, BW, Q"
   ]
  },
  {
   "cell_type": "markdown",
   "metadata": {
    "collapsed": true
   },
   "source": [
    "# Punto 2"
   ]
  },
  {
   "cell_type": "code",
   "execution_count": 2,
   "metadata": {
    "collapsed": false
   },
   "outputs": [
    {
     "data": {
      "image/png": "[encoded data removed]",
      "text/latex": [
       "$$\\frac{2 R_{2}}{R_{1} R_{G}} \\left(R_{2} V_{1} - R_{2} V_{2} + R_{G} V_{1} - R_{G} V_{2}\\right)$$"
      ],
      "text/plain": [
       "2⋅R₂⋅(R₂⋅V₁ - R₂⋅V₂ + R_G⋅V₁ - R_G⋅V₂)\n",
       "──────────────────────────────────────\n",
       "                R₁⋅R_G                "
      ]
     },
     "metadata": {},
     "output_type": "display_data"
    }
   ],
   "source": [
    "Vout, V1, V2, VA, VB, VP, R1, R2, RG = spy.symbols('V_{out} V_1 V_2 V_A V_B V_P R_1 R_2 R_G', real = True, positive = True)\n",
    "\n",
    "ex1 = (V2 - VP)/R1 - (VP-VA)/R2\n",
    "VP = spy.solve(ex1, VP)[0]\n",
    "\n",
    "ex2 = (V1 - VP)/R1 - (VP - VB)/R2\n",
    "VB = spy.solve(ex2, VB)[0]\n",
    "\n",
    "I1 = (V2 - VP)/R1\n",
    "I2 = (V1 - VP)/R1\n",
    "I3 = (Vout - VA)/R2\n",
    "\n",
    "I5 = VB/R2\n",
    "\n",
    "ex3 = I1 + I2 + I3 - I5\n",
    "VA_ = spy.solve(ex3, VA)[0]\n",
    "\n",
    "I4 = (VA - VB)/RG\n",
    "\n",
    "ex4 = (I1 + I3 - I4).subs([(VA, VA_)])#.simplify()\n",
    "\n",
    "Vout = spy.solve(ex4, Vout)[0]\n",
    "display(Vout)"
   ]
  },
  {
   "cell_type": "code",
   "execution_count": 6,
   "metadata": {
    "collapsed": false
   },
   "outputs": [
    {
     "data": {
      "image/png": "[encoded data removed]",
      "text/latex": [
       "$$\\frac{V_{out}}{2 R_{2}} - \\frac{R_{2} V_{1}}{R_{1} R_{G}} + \\frac{R_{2} V_{2}}{R_{1} R_{G}} - \\frac{V_{1}}{R_{1}} + \\frac{V_{2}}{R_{1}}$$"
      ],
      "text/plain": [
       "V_{out}   R₂⋅V₁    R₂⋅V₂    V₁   V₂\n",
       "─────── - ────── + ────── - ── + ──\n",
       "  2⋅R₂    R₁⋅R_G   R₁⋅R_G   R₁   R₁"
      ]
     },
     "metadata": {},
     "output_type": "display_data"
    }
   ],
   "source": [
    "display(ex4.simplify().expand())"
   ]
  },
  {
   "cell_type": "code",
   "execution_count": null,
   "metadata": {
    "collapsed": true
   },
   "outputs": [],
   "source": []
  }
 ],
 "metadata": {
  "anaconda-cloud": {},
  "kernelspec": {
   "display_name": "Python [Root]",
   "language": "python",
   "name": "Python [Root]"
  },
  "language_info": {
   "codemirror_mode": {
    "name": "ipython",
    "version": 3
   },
   "file_extension": ".py",
   "mimetype": "text/x-python",
   "name": "python",
   "nbconvert_exporter": "python",
   "pygments_lexer": "ipython3",
   "version": "3.5.2"
  }
 },
 "nbformat": 4,
 "nbformat_minor": 0
}
