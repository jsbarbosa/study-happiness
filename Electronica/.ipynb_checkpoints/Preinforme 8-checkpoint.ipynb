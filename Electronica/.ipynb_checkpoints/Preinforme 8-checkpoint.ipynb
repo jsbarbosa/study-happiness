{
 "cells": [
  {
   "cell_type": "code",
   "execution_count": 2,
   "metadata": {
    "collapsed": true
   },
   "outputs": [],
   "source": [
    "import numpy as np\n",
    "import matplotlib.pyplot as plt\n",
    "%matplotlib inline\n",
    "\n",
    "import sympy as spy\n",
    "from IPython.display import display, Image\n",
    "spy.init_printing()"
   ]
  },
  {
   "cell_type": "markdown",
   "metadata": {},
   "source": [
    "# Filtro con amplificación"
   ]
  },
  {
   "cell_type": "code",
   "execution_count": 217,
   "metadata": {
    "collapsed": false
   },
   "outputs": [
    {
     "data": {
      "image/png": "[encoded data removed]",
      "text/latex": [
       "$$\\frac{C R_{2} V_{in} \\omega}{\\sqrt{C^{2} R_{1}^{2} \\omega^{2} + 1.0}}$$"
      ],
      "text/plain": [
       "    C⋅R₂⋅V_{in}⋅\\omega   \n",
       "─────────────────────────\n",
       "   ______________________\n",
       "  ╱  2   2       2       \n",
       "╲╱  C ⋅R₁ ⋅\\omega  + 1.0 "
      ]
     },
     "metadata": {},
     "output_type": "display_data"
    },
    {
     "name": "stdout",
     "output_type": "stream",
     "text": [
      "\\frac{C R_{2} V_{in} \\omega}{\\sqrt{C^{2} R_{1}^{2} \\omega^{2} + 1.0}}\n"
     ]
    },
    {
     "data": {
      "image/png": "[encoded data removed]",
      "text/latex": [
       "$$\\operatorname{atan}{\\left (\\frac{1.0}{C R_{1} \\omega} \\right )}$$"
      ],
      "text/plain": [
       "    ⎛    1.0    ⎞\n",
       "atan⎜───────────⎟\n",
       "    ⎝C⋅R₁⋅\\omega⎠"
      ]
     },
     "metadata": {},
     "output_type": "display_data"
    },
    {
     "name": "stdout",
     "output_type": "stream",
     "text": [
      "atan(1.0/(C*R_1*\\omega))\n"
     ]
    }
   ],
   "source": [
    "omega, C, R_1, R_2, V_in = spy.symbols('\\omega C R_1 R_2 V_{in}', real=True, positive=True)\n",
    "\n",
    "Z_eq = 1/(1j*omega*C) + R_1\n",
    "\n",
    "V_out = -(R_2/Z_eq)*V_in\n",
    "\n",
    "real, imag = V_out.as_real_imag()\n",
    "\n",
    "amplitude = spy.sqrt(real**2 + imag**2).simplify()\n",
    "phase = spy.atan(imag/real)\n",
    "\n",
    "display(amplitude)\n",
    "print(spy.latex(amplitude))\n",
    "display(phase)\n",
    "print(phase)\n",
    "\n",
    "CONSTANT_R_1 = 10e3\n",
    "CONSTANT_R_2 = 100e3\n",
    "CONSTANT_C = 0.1e-6\n",
    "CONSTANT_V_in = 1\n",
    "\n",
    "substitutions = [(R_1, CONSTANT_R_1), (R_2, CONSTANT_R_2), (C, CONSTANT_C), (V_in, CONSTANT_V_in)]"
   ]
  },
  {
   "cell_type": "code",
   "execution_count": 228,
   "metadata": {
    "collapsed": false
   },
   "outputs": [
    {
     "data": {
      "image/png": "[encoded data removed]",
      "text/latex": [
       "$$\\frac{1}{C R_{1}}$$"
      ],
      "text/plain": [
       " 1  \n",
       "────\n",
       "C⋅R₁"
      ]
     },
     "metadata": {},
     "output_type": "display_data"
    }
   ],
   "source": [
    "eq = spy.denom(amplitude)\n",
    "solutions = spy.solve(eq-spy.sqrt(2), omega)[0]\n",
    "display(solutions)\n",
    "omega_c = float(solutions.subs(substitutions))"
   ]
  },
  {
   "cell_type": "code",
   "execution_count": 241,
   "metadata": {
    "collapsed": false
   },
   "outputs": [],
   "source": [
    "V_c = V_out.evalf(subs = {omega:omega_c})\n",
    "V_c = float(abs(V_c))"
   ]
  },
  {
   "cell_type": "code",
   "execution_count": 245,
   "metadata": {
    "collapsed": false
   },
   "outputs": [
    {
     "data": {
      "image/png": "[encoded data removed]",
      "text/plain": [
       "<matplotlib.figure.Figure at 0x7f436d171c18>"
      ]
     },
     "metadata": {},
     "output_type": "display_data"
    }
   ],
   "source": [
    "V_out = V_out.subs(substitutions).simplify()\n",
    "\n",
    "freq = np.logspace(0, 6)\n",
    "Vouts = np.zeros_like(freq)\n",
    "phases = np.zeros_like(freq)\n",
    "for i,w in enumerate(freq):\n",
    "    sol = V_out.evalf(subs = {omega:w*2*np.pi})\n",
    "    Vouts[i] = abs(sol)\n",
    "    phases[i] = spy.atan(spy.im(sol)/spy.re(sol))\n",
    "    \n",
    "fig, (ax1, ax2) = plt.subplots(2, sharex=True)\n",
    "ax1.plot(freq, Vouts)\n",
    "ax1.plot([omega_c/(2*np.pi)],[V_c], \"o\")\n",
    "ax1.set_xscale('log')\n",
    "ax1.set_ylabel('Amplitude (V)')\n",
    "ax1.grid()\n",
    "ax2.grid()\n",
    "ax2.plot(freq, phases)\n",
    "ax2.set_xlabel('Frequency (Hz)')\n",
    "ax2.set_ylabel('Phase (rad)')\n",
    "plt.tight_layout()\n",
    "plt.savefig('filter.pdf')\n",
    "plt.show()"
   ]
  },
  {
   "cell_type": "code",
   "execution_count": null,
   "metadata": {
    "collapsed": true
   },
   "outputs": [],
   "source": []
  }
 ],
 "metadata": {
  "anaconda-cloud": {},
  "kernelspec": {
   "display_name": "Python [Root]",
   "language": "python",
   "name": "Python [Root]"
  },
  "language_info": {
   "codemirror_mode": {
    "name": "ipython",
    "version": 3
   },
   "file_extension": ".py",
   "mimetype": "text/x-python",
   "name": "python",
   "nbconvert_exporter": "python",
   "pygments_lexer": "ipython3",
   "version": "3.5.2"
  }
 },
 "nbformat": 4,
 "nbformat_minor": 0
}
